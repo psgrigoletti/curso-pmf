{
 "cells": [
  {
   "cell_type": "markdown",
   "metadata": {
    "id": "9ttpmhiaOFDA"
   },
   "source": [
    "**Python para Mercado Financeiro, Módulo 7 - Análise Fundamentalista em Python**\n",
    "\n",
    "**Autor:** Pablo Souza Grigoletti\n",
    "\n",
    "**E-mail:** psgrigoletti@gmail.com\n",
    "\n"
   ]
  },
  {
   "cell_type": "markdown",
   "metadata": {
    "id": "gFWwzCfSHfu3"
   },
   "source": [
    "#1. Instalando e importando as bibliotecas necessárias"
   ]
  },
  {
   "cell_type": "code",
   "execution_count": 1,
   "metadata": {
    "colab": {
     "base_uri": "https://localhost:8080/"
    },
    "id": "ra8JC7Ws7ymN",
    "outputId": "4955e3a1-505d-46af-ced2-9aaea113d382"
   },
   "outputs": [
    {
     "name": "stdout",
     "output_type": "stream",
     "text": [
      "Defaulting to user installation because normal site-packages is not writeable\n",
      "Requirement already satisfied: Plotly in /usr/lib/python3/dist-packages (5.4.0)\n",
      "\n",
      "\u001b[1m[\u001b[0m\u001b[34;49mnotice\u001b[0m\u001b[1;39;49m]\u001b[0m\u001b[39;49m A new release of pip available: \u001b[0m\u001b[31;49m22.3.1\u001b[0m\u001b[39;49m -> \u001b[0m\u001b[32;49m23.0.1\u001b[0m\n",
      "\u001b[1m[\u001b[0m\u001b[34;49mnotice\u001b[0m\u001b[1;39;49m]\u001b[0m\u001b[39;49m To update, run: \u001b[0m\u001b[32;49mpython3 -m pip install --upgrade pip\u001b[0m\n",
      "Defaulting to user installation because normal site-packages is not writeable\n",
      "Collecting xlsxwriter\n",
      "  Downloading XlsxWriter-3.0.8-py3-none-any.whl (152 kB)\n",
      "\u001b[2K     \u001b[38;2;114;156;31m━━━━━━━━━━━━━━━━━━━━━━━━━━━━━━━━━━━━━━━\u001b[0m \u001b[32m152.8/152.8 kB\u001b[0m \u001b[31m1.2 MB/s\u001b[0m eta \u001b[36m0:00:00\u001b[0m[31m1.3 MB/s\u001b[0m eta \u001b[36m0:00:01\u001b[0m\n",
      "\u001b[?25hInstalling collected packages: xlsxwriter\n",
      "Successfully installed xlsxwriter-3.0.8\n",
      "\n",
      "\u001b[1m[\u001b[0m\u001b[34;49mnotice\u001b[0m\u001b[1;39;49m]\u001b[0m\u001b[39;49m A new release of pip available: \u001b[0m\u001b[31;49m22.3.1\u001b[0m\u001b[39;49m -> \u001b[0m\u001b[32;49m23.0.1\u001b[0m\n",
      "\u001b[1m[\u001b[0m\u001b[34;49mnotice\u001b[0m\u001b[1;39;49m]\u001b[0m\u001b[39;49m To update, run: \u001b[0m\u001b[32;49mpython3 -m pip install --upgrade pip\u001b[0m\n",
      "Defaulting to user installation because normal site-packages is not writeable\n",
      "Requirement already satisfied: yfinance in /home/s003605150/.local/lib/python3.10/site-packages (0.2.3)\n",
      "Requirement already satisfied: cryptography>=3.3.2 in /usr/lib/python3/dist-packages (from yfinance) (3.4.8)\n",
      "Requirement already satisfied: lxml>=4.9.1 in /home/s003605150/.local/lib/python3.10/site-packages (from yfinance) (4.9.2)\n",
      "Requirement already satisfied: html5lib>=1.1 in /usr/lib/python3/dist-packages (from yfinance) (1.1)\n",
      "Requirement already satisfied: appdirs>=1.4.4 in /usr/lib/python3/dist-packages (from yfinance) (1.4.4)\n",
      "Requirement already satisfied: pandas>=1.3.0 in /usr/local/lib/python3.10/dist-packages (from yfinance) (1.5.1)\n",
      "Requirement already satisfied: pytz>=2022.5 in /home/s003605150/.local/lib/python3.10/site-packages (from yfinance) (2022.7)\n",
      "Requirement already satisfied: beautifulsoup4>=4.11.1 in /home/s003605150/.local/lib/python3.10/site-packages (from yfinance) (4.11.1)\n",
      "Requirement already satisfied: multitasking>=0.0.7 in /home/s003605150/.local/lib/python3.10/site-packages (from yfinance) (0.0.11)\n",
      "Requirement already satisfied: requests>=2.26 in /home/s003605150/.local/lib/python3.10/site-packages (from yfinance) (2.28.1)\n",
      "Requirement already satisfied: numpy>=1.16.5 in /usr/lib/python3/dist-packages (from yfinance) (1.21.5)\n",
      "Requirement already satisfied: frozendict>=2.3.4 in /home/s003605150/.local/lib/python3.10/site-packages (from yfinance) (2.3.4)\n",
      "Requirement already satisfied: soupsieve>1.2 in /usr/lib/python3/dist-packages (from beautifulsoup4>=4.11.1->yfinance) (2.3.1)\n",
      "Requirement already satisfied: python-dateutil>=2.8.1 in /usr/lib/python3/dist-packages (from pandas>=1.3.0->yfinance) (2.8.1)\n",
      "Requirement already satisfied: urllib3<1.27,>=1.21.1 in /usr/lib/python3/dist-packages (from requests>=2.26->yfinance) (1.26.5)\n",
      "Requirement already satisfied: charset-normalizer<3,>=2 in /usr/local/lib/python3.10/dist-packages (from requests>=2.26->yfinance) (2.1.1)\n",
      "Requirement already satisfied: idna<4,>=2.5 in /usr/lib/python3/dist-packages (from requests>=2.26->yfinance) (3.3)\n",
      "Requirement already satisfied: certifi>=2017.4.17 in /usr/lib/python3/dist-packages (from requests>=2.26->yfinance) (2020.6.20)\n",
      "\n",
      "\u001b[1m[\u001b[0m\u001b[34;49mnotice\u001b[0m\u001b[1;39;49m]\u001b[0m\u001b[39;49m A new release of pip available: \u001b[0m\u001b[31;49m22.3.1\u001b[0m\u001b[39;49m -> \u001b[0m\u001b[32;49m23.0.1\u001b[0m\n",
      "\u001b[1m[\u001b[0m\u001b[34;49mnotice\u001b[0m\u001b[1;39;49m]\u001b[0m\u001b[39;49m To update, run: \u001b[0m\u001b[32;49mpython3 -m pip install --upgrade pip\u001b[0m\n",
      "Defaulting to user installation because normal site-packages is not writeable\n",
      "Collecting fundamentus\n",
      "  Using cached fundamentus-0.2.0-py3-none-any.whl (13 kB)\n",
      "Requirement already satisfied: lxml>=4.6.2 in /home/s003605150/.local/lib/python3.10/site-packages (from fundamentus) (4.9.2)\n",
      "Requirement already satisfied: pandas>=1.1.5 in /usr/local/lib/python3.10/dist-packages (from fundamentus) (1.5.1)\n",
      "Collecting requests-cache>=0.5.2\n",
      "  Downloading requests_cache-1.0.0-py3-none-any.whl (58 kB)\n",
      "\u001b[2K     \u001b[38;2;114;156;31m━━━━━━━━━━━━━━━━━━━━━━━━━━━━━━━━━━━━━━━\u001b[0m \u001b[32m58.6/58.6 kB\u001b[0m \u001b[31m972.9 kB/s\u001b[0m eta \u001b[36m0:00:00\u001b[0m kB/s\u001b[0m eta \u001b[36m0:00:01\u001b[0m\n",
      "\u001b[?25hRequirement already satisfied: tabulate>=0.8.7 in /home/s003605150/.local/lib/python3.10/site-packages (from fundamentus) (0.9.0)\n",
      "Requirement already satisfied: requests>=2.25.1 in /home/s003605150/.local/lib/python3.10/site-packages (from fundamentus) (2.28.1)\n",
      "Requirement already satisfied: pytz>=2020.1 in /home/s003605150/.local/lib/python3.10/site-packages (from pandas>=1.1.5->fundamentus) (2022.7)\n",
      "Requirement already satisfied: numpy>=1.21.0 in /usr/lib/python3/dist-packages (from pandas>=1.1.5->fundamentus) (1.21.5)\n",
      "Requirement already satisfied: python-dateutil>=2.8.1 in /usr/lib/python3/dist-packages (from pandas>=1.1.5->fundamentus) (2.8.1)\n",
      "Requirement already satisfied: urllib3<1.27,>=1.21.1 in /usr/lib/python3/dist-packages (from requests>=2.25.1->fundamentus) (1.26.5)\n",
      "Requirement already satisfied: charset-normalizer<3,>=2 in /usr/local/lib/python3.10/dist-packages (from requests>=2.25.1->fundamentus) (2.1.1)\n",
      "Requirement already satisfied: idna<4,>=2.5 in /usr/lib/python3/dist-packages (from requests>=2.25.1->fundamentus) (3.3)\n",
      "Requirement already satisfied: certifi>=2017.4.17 in /usr/lib/python3/dist-packages (from requests>=2.25.1->fundamentus) (2020.6.20)\n",
      "Requirement already satisfied: attrs>=21.2 in /usr/local/lib/python3.10/dist-packages (from requests-cache>=0.5.2->fundamentus) (22.1.0)\n",
      "Collecting cattrs>=22.2\n",
      "  Using cached cattrs-22.2.0-py3-none-any.whl (35 kB)\n",
      "Collecting url-normalize>=1.4\n",
      "  Using cached url_normalize-1.4.3-py2.py3-none-any.whl (6.8 kB)\n",
      "Requirement already satisfied: platformdirs>=2.5 in /usr/local/lib/python3.10/dist-packages (from requests-cache>=0.5.2->fundamentus) (2.6.2)\n",
      "Collecting exceptiongroup\n",
      "  Using cached exceptiongroup-1.1.0-py3-none-any.whl (14 kB)\n",
      "Requirement already satisfied: six in /usr/lib/python3/dist-packages (from url-normalize>=1.4->requests-cache>=0.5.2->fundamentus) (1.16.0)\n",
      "Installing collected packages: url-normalize, exceptiongroup, cattrs, requests-cache, fundamentus\n",
      "Successfully installed cattrs-22.2.0 exceptiongroup-1.1.0 fundamentus-0.2.0 requests-cache-1.0.0 url-normalize-1.4.3\n",
      "\n",
      "\u001b[1m[\u001b[0m\u001b[34;49mnotice\u001b[0m\u001b[1;39;49m]\u001b[0m\u001b[39;49m A new release of pip available: \u001b[0m\u001b[31;49m22.3.1\u001b[0m\u001b[39;49m -> \u001b[0m\u001b[32;49m23.0.1\u001b[0m\n",
      "\u001b[1m[\u001b[0m\u001b[34;49mnotice\u001b[0m\u001b[1;39;49m]\u001b[0m\u001b[39;49m To update, run: \u001b[0m\u001b[32;49mpython3 -m pip install --upgrade pip\u001b[0m\n"
     ]
    },
    {
     "name": "stderr",
     "output_type": "stream",
     "text": [
      "2023-03-09 23:34:00,050 [logging.log_init] INFO: LOGLEVEL=INFO\n"
     ]
    }
   ],
   "source": [
    "# Instalação das bibliotecas\n",
    "!pip install Plotly\n",
    "!pip install xlsxwriter\n",
    "!pip install yfinance\n",
    "!pip install fundamentus\n",
    "\n",
    "# Import das bibliotecas\n",
    "import pandas as pd\n",
    "import numpy as np\n",
    "import fundamentus\n",
    "import yfinance as yf\n",
    "\n",
    "import requests\n",
    "import zipfile\n",
    "import xlsxwriter\n",
    "\n",
    "import io\n",
    "import os\n",
    "\n",
    "import plotly\n",
    "import plotly.graph_objects as go\n",
    "\n",
    "import time\n",
    "from datetime import date\n",
    "\n",
    "from multiprocessing import Pool"
   ]
  },
  {
   "cell_type": "markdown",
   "metadata": {
    "id": "kNc19qvd7vO4"
   },
   "source": [
    "# 2. Buscando os dados das empresas listadas"
   ]
  },
  {
   "cell_type": "markdown",
   "metadata": {
    "id": "X6hSrogjb-AG"
   },
   "source": [
    "Vamos extrair apenas o documento descritivo das companhias de capital aberto extraído da CVM. Com isso, poderemos filtrar as empresas de acordo com a característica que queremos e pegar os códigos de empresa."
   ]
  },
  {
   "cell_type": "markdown",
   "metadata": {
    "id": "WD-1JSgXHzc5"
   },
   "source": [
    "##2.1. Baixando os dados"
   ]
  },
  {
   "cell_type": "code",
   "execution_count": 2,
   "metadata": {
    "id": "GXAnUVKf78_W"
   },
   "outputs": [
    {
     "data": {
      "text/html": [
       "<div>\n",
       "<style scoped>\n",
       "    .dataframe tbody tr th:only-of-type {\n",
       "        vertical-align: middle;\n",
       "    }\n",
       "\n",
       "    .dataframe tbody tr th {\n",
       "        vertical-align: top;\n",
       "    }\n",
       "\n",
       "    .dataframe thead th {\n",
       "        text-align: right;\n",
       "    }\n",
       "</style>\n",
       "<table border=\"1\" class=\"dataframe\">\n",
       "  <thead>\n",
       "    <tr style=\"text-align: right;\">\n",
       "      <th></th>\n",
       "      <th>CNPJ_CIA</th>\n",
       "      <th>DENOM_SOCIAL</th>\n",
       "      <th>DENOM_COMERC</th>\n",
       "      <th>DT_REG</th>\n",
       "      <th>DT_CONST</th>\n",
       "      <th>DT_CANCEL</th>\n",
       "      <th>MOTIVO_CANCEL</th>\n",
       "      <th>SIT</th>\n",
       "      <th>DT_INI_SIT</th>\n",
       "      <th>CD_CVM</th>\n",
       "      <th>...</th>\n",
       "      <th>UF_RESP</th>\n",
       "      <th>PAIS_RESP</th>\n",
       "      <th>CEP_RESP</th>\n",
       "      <th>DDD_TEL_RESP</th>\n",
       "      <th>TEL_RESP</th>\n",
       "      <th>DDD_FAX_RESP</th>\n",
       "      <th>FAX_RESP</th>\n",
       "      <th>EMAIL_RESP</th>\n",
       "      <th>CNPJ_AUDITOR</th>\n",
       "      <th>AUDITOR</th>\n",
       "    </tr>\n",
       "  </thead>\n",
       "  <tbody>\n",
       "    <tr>\n",
       "      <th>0</th>\n",
       "      <td>08.773.135/0001-00</td>\n",
       "      <td>2W ENERGIA S.A.</td>\n",
       "      <td>BANCO BESA SA</td>\n",
       "      <td>2020-10-29</td>\n",
       "      <td>2007-03-23</td>\n",
       "      <td>NaN</td>\n",
       "      <td>NaN</td>\n",
       "      <td>ATIVO</td>\n",
       "      <td>2020-10-29</td>\n",
       "      <td>25224</td>\n",
       "      <td>...</td>\n",
       "      <td>SP</td>\n",
       "      <td>NaN</td>\n",
       "      <td>4707000.0</td>\n",
       "      <td>11</td>\n",
       "      <td>39579400.0</td>\n",
       "      <td>NaN</td>\n",
       "      <td>NaN</td>\n",
       "      <td>ri@2wenergia.com.br</td>\n",
       "      <td>61.366.936/0001-25</td>\n",
       "      <td>ERNST &amp; YOUNG AUDITORES INDEPENDENTES S/S LTDA.</td>\n",
       "    </tr>\n",
       "    <tr>\n",
       "      <th>1</th>\n",
       "      <td>11.396.633/0001-87</td>\n",
       "      <td>3A COMPANHIA SECURITIZADORA</td>\n",
       "      <td>TRIPLO A  COMPANHIA SECURITIZADORA</td>\n",
       "      <td>2010-03-08</td>\n",
       "      <td>2009-11-03</td>\n",
       "      <td>2015-12-18</td>\n",
       "      <td>Cancelamento Voluntário - IN CVM 480/09</td>\n",
       "      <td>CANCELADA</td>\n",
       "      <td>2015-12-18</td>\n",
       "      <td>21954</td>\n",
       "      <td>...</td>\n",
       "      <td>RJ</td>\n",
       "      <td>NaN</td>\n",
       "      <td>20020000.0</td>\n",
       "      <td>21</td>\n",
       "      <td>22338867.0</td>\n",
       "      <td>21.0</td>\n",
       "      <td>22338867.0</td>\n",
       "      <td>juridico@triploasec.com.br</td>\n",
       "      <td>60.525.706/0001-07</td>\n",
       "      <td>MOORE STEPHENS LIMA LUCCHESI AUDITORES INDEPEN...</td>\n",
       "    </tr>\n",
       "    <tr>\n",
       "      <th>2</th>\n",
       "      <td>12.091.809/0001-55</td>\n",
       "      <td>3R PETROLEUM OLÉO E GÁS S.A.</td>\n",
       "      <td>NaN</td>\n",
       "      <td>2020-11-09</td>\n",
       "      <td>2010-06-08</td>\n",
       "      <td>NaN</td>\n",
       "      <td>NaN</td>\n",
       "      <td>ATIVO</td>\n",
       "      <td>2020-11-09</td>\n",
       "      <td>25291</td>\n",
       "      <td>...</td>\n",
       "      <td>RJ</td>\n",
       "      <td>NaN</td>\n",
       "      <td>22250180.0</td>\n",
       "      <td>21</td>\n",
       "      <td>21455555.0</td>\n",
       "      <td>0.0</td>\n",
       "      <td>0.0</td>\n",
       "      <td>ri@3rpetroleum.com.br</td>\n",
       "      <td>57.755.217/0001-29</td>\n",
       "      <td>KPMG AUDITORES INDEPENDENTES LTDA.</td>\n",
       "    </tr>\n",
       "    <tr>\n",
       "      <th>3</th>\n",
       "      <td>01.547.749/0001-16</td>\n",
       "      <td>521 PARTICIPAÇOES S.A. - EM LIQUIDAÇÃO EXTRAJU...</td>\n",
       "      <td>521 PARTICIPAÇÕES S/A</td>\n",
       "      <td>1997-07-11</td>\n",
       "      <td>1996-07-30</td>\n",
       "      <td>NaN</td>\n",
       "      <td>NaN</td>\n",
       "      <td>ATIVO</td>\n",
       "      <td>1997-07-11</td>\n",
       "      <td>16330</td>\n",
       "      <td>...</td>\n",
       "      <td>NaN</td>\n",
       "      <td>NaN</td>\n",
       "      <td>NaN</td>\n",
       "      <td>NaN</td>\n",
       "      <td>NaN</td>\n",
       "      <td>NaN</td>\n",
       "      <td>NaN</td>\n",
       "      <td>NaN</td>\n",
       "      <td>18.596.945/0001-83</td>\n",
       "      <td>BAKER TILLY 4PARTNERS AUDITORES INDEPENDENTES S/S</td>\n",
       "    </tr>\n",
       "    <tr>\n",
       "      <th>4</th>\n",
       "      <td>01.851.771/0001-55</td>\n",
       "      <td>524 PARTICIPAÇOES SA</td>\n",
       "      <td>524 PARTICIPACOES SA</td>\n",
       "      <td>1997-05-30</td>\n",
       "      <td>1997-04-02</td>\n",
       "      <td>NaN</td>\n",
       "      <td>NaN</td>\n",
       "      <td>ATIVO</td>\n",
       "      <td>1997-05-30</td>\n",
       "      <td>16284</td>\n",
       "      <td>...</td>\n",
       "      <td>RJ</td>\n",
       "      <td>NaN</td>\n",
       "      <td>20020010.0</td>\n",
       "      <td>21</td>\n",
       "      <td>38043700.0</td>\n",
       "      <td>0.0</td>\n",
       "      <td>0.0</td>\n",
       "      <td>gar@opportunity.com.br</td>\n",
       "      <td>40.262.602/0001-31</td>\n",
       "      <td>BKR - LOPES, MACHADO AUDITORES</td>\n",
       "    </tr>\n",
       "  </tbody>\n",
       "</table>\n",
       "<p>5 rows × 47 columns</p>\n",
       "</div>"
      ],
      "text/plain": [
       "             CNPJ_CIA                                       DENOM_SOCIAL  \\\n",
       "0  08.773.135/0001-00                                    2W ENERGIA S.A.   \n",
       "1  11.396.633/0001-87                        3A COMPANHIA SECURITIZADORA   \n",
       "2  12.091.809/0001-55                       3R PETROLEUM OLÉO E GÁS S.A.   \n",
       "3  01.547.749/0001-16  521 PARTICIPAÇOES S.A. - EM LIQUIDAÇÃO EXTRAJU...   \n",
       "4  01.851.771/0001-55                               524 PARTICIPAÇOES SA   \n",
       "\n",
       "                         DENOM_COMERC      DT_REG    DT_CONST   DT_CANCEL  \\\n",
       "0                       BANCO BESA SA  2020-10-29  2007-03-23         NaN   \n",
       "1  TRIPLO A  COMPANHIA SECURITIZADORA  2010-03-08  2009-11-03  2015-12-18   \n",
       "2                                 NaN  2020-11-09  2010-06-08         NaN   \n",
       "3               521 PARTICIPAÇÕES S/A  1997-07-11  1996-07-30         NaN   \n",
       "4                524 PARTICIPACOES SA  1997-05-30  1997-04-02         NaN   \n",
       "\n",
       "                             MOTIVO_CANCEL        SIT  DT_INI_SIT  CD_CVM  \\\n",
       "0                                      NaN      ATIVO  2020-10-29   25224   \n",
       "1  Cancelamento Voluntário - IN CVM 480/09  CANCELADA  2015-12-18   21954   \n",
       "2                                      NaN      ATIVO  2020-11-09   25291   \n",
       "3                                      NaN      ATIVO  1997-07-11   16330   \n",
       "4                                      NaN      ATIVO  1997-05-30   16284   \n",
       "\n",
       "   ... UF_RESP PAIS_RESP    CEP_RESP DDD_TEL_RESP    TEL_RESP DDD_FAX_RESP  \\\n",
       "0  ...      SP       NaN   4707000.0           11  39579400.0          NaN   \n",
       "1  ...      RJ       NaN  20020000.0           21  22338867.0         21.0   \n",
       "2  ...      RJ       NaN  22250180.0           21  21455555.0          0.0   \n",
       "3  ...     NaN       NaN         NaN          NaN         NaN          NaN   \n",
       "4  ...      RJ       NaN  20020010.0           21  38043700.0          0.0   \n",
       "\n",
       "     FAX_RESP                  EMAIL_RESP        CNPJ_AUDITOR  \\\n",
       "0         NaN         ri@2wenergia.com.br  61.366.936/0001-25   \n",
       "1  22338867.0  juridico@triploasec.com.br  60.525.706/0001-07   \n",
       "2         0.0       ri@3rpetroleum.com.br  57.755.217/0001-29   \n",
       "3         NaN                         NaN  18.596.945/0001-83   \n",
       "4         0.0      gar@opportunity.com.br  40.262.602/0001-31   \n",
       "\n",
       "                                             AUDITOR  \n",
       "0    ERNST & YOUNG AUDITORES INDEPENDENTES S/S LTDA.  \n",
       "1  MOORE STEPHENS LIMA LUCCHESI AUDITORES INDEPEN...  \n",
       "2                 KPMG AUDITORES INDEPENDENTES LTDA.  \n",
       "3  BAKER TILLY 4PARTNERS AUDITORES INDEPENDENTES S/S  \n",
       "4                     BKR - LOPES, MACHADO AUDITORES  \n",
       "\n",
       "[5 rows x 47 columns]"
      ]
     },
     "execution_count": 2,
     "metadata": {},
     "output_type": "execute_result"
    }
   ],
   "source": [
    "# r = requests.get('http://dados.cvm.gov.br/dados/CIA_ABERTA/CAD/DADOS/cad_cia_aberta.csv')\n",
    "# lines = [i.strip().split(';') for i in r.text.split('\\n')]\n",
    "# df = pd.DataFrame(lines[1:], columns = lines[0])\n",
    "# df.head()\n",
    "\n",
    "df_dados_empresas = pd.read_csv('http://dados.cvm.gov.br/dados/CIA_ABERTA/CAD/DADOS/cad_cia_aberta.csv', sep=\";\", encoding=\"ISO-8859-1\")\n",
    "df_dados_empresas.head()"
   ]
  },
  {
   "cell_type": "markdown",
   "metadata": {
    "id": "iRYkdj9IIgcR"
   },
   "source": [
    "##2.2. Filtrando o DataFrame"
   ]
  },
  {
   "cell_type": "markdown",
   "metadata": {
    "id": "A4bxvJ6GrHZC"
   },
   "source": [
    "Procurando por empresas específicas, que tenham uma característica em comum na sua denominação comercial."
   ]
  },
  {
   "cell_type": "code",
   "execution_count": 3,
   "metadata": {
    "id": "FfZxFdTkJipx"
   },
   "outputs": [
    {
     "data": {
      "text/plain": [
       "['022357', '019909', '020494', '020982']"
      ]
     },
     "execution_count": 3,
     "metadata": {},
     "output_type": "execute_result"
    }
   ],
   "source": [
    "situacao_interesse = 'ATIVO'\n",
    "tipo_mercado_interesse = 'BOLSA'\n",
    "\n",
    "df_dados_empresas_filtradas = df_dados_empresas\n",
    "df_dados_empresas_filtradas = df_dados_empresas_filtradas[(df_dados_empresas_filtradas['SIT'] == situacao_interesse) & (df_dados_empresas_filtradas['TP_MERC'] == tipo_mercado_interesse)]\n",
    "\n",
    "# TODO: trocar o código abaixo e encontrar uma forma melhor de filtrar os ativos...\n",
    "cnpjs_interesse = ['05.878.397/0001-32', '07.816.890/0001-53', '51.218.147/0001-93', '06.977.751/0001-49', '06.977.745/0001-91']\n",
    "denominacoes_interesse = ['MULTIPLAN', 'MALL', 'IGUATEMI', 'SHOPP']\n",
    "df_dados_empresas_filtradas = df_dados_empresas_filtradas[df_dados_empresas_filtradas['CNPJ_CIA'].isin(cnpjs_interesse)]\n",
    "df_dados_empresas_filtradas = df_dados_empresas_filtradas[df_dados_empresas_filtradas.DENOM_SOCIAL.str.contains('|'.join(denominacoes_interesse), na=False)]\n",
    "df_dados_empresas_filtradas\n",
    "\n",
    "# Precisamos obter os códigos CVM das empresas que queremos obter.\n",
    "# Uma vez que sabemos os códigos a partir da tabela anterior, vamos transformar essa coluna em uma lista.\n",
    "# Já ajustado para ficar com 6 dígitos, preenchidos com zero a esquerda\n",
    "codigos_cvm = list(df_dados_empresas_filtradas['CD_CVM'])\n",
    "codigos_cvm = list(map(lambda i: str(i).zfill(6), codigos_cvm))\n",
    "codigos_cvm"
   ]
  },
  {
   "cell_type": "markdown",
   "metadata": {
    "id": "Wp6fhwAIK-1b"
   },
   "source": [
    "# 3. Extraindo as suas demonstrações financeiras"
   ]
  },
  {
   "cell_type": "markdown",
   "metadata": {
    "id": "wjJtyWCdImrB"
   },
   "source": [
    "## 3.1. Descrição"
   ]
  },
  {
   "cell_type": "markdown",
   "metadata": {
    "id": "jpZX1NzVIsLQ"
   },
   "source": [
    "Quais as demonstrações que você precisa? O conjunto de dados disponibiliza as seguintes demonstrações financeiras entregues nos últimos cinco anos:\n",
    "- Balanço Patrimonial Ativo (BPA)\n",
    "- Balanço Patrimonial Passivo (BPP)\n",
    "- Demonstração de Fluxo de Caixa - Método Direto (DFC-MD)\n",
    "- Demonstração de Fluxo de Caixa - Método Indireto (DFC-MI)\n",
    "- Demonstração das Mutações do Patrimônio Líquido (DMPL)\n",
    "- Demonstração de Resultado Abrangente (DRA)\n",
    "- Demonstração de Resultado (DRE)\n",
    "- Demonstração de Valor Adicionado (DVA)\n",
    "\n",
    "**OBSERVAÇÃO: Diferença entre balanço patrimonial Consolidado e Individual:**\n",
    "\n",
    "Nas demonstrações financeiras (DFs) onde encontramos o balanço patrimonial, você vai notar que há duas seções: as DFs individuais e DFs consolidadas. Dentro de cada uma, há diferentes balanços patrimoniais.\n",
    "\n",
    "A diferença é que o balanço consolidado traz informações referentes à empresa principal e também às subsidiárias (controladas pela empresa principal). \n",
    "\n",
    "Já os números do balanço individual se referem somente à \"empresa mãe\".\n",
    "\n",
    "Entre os investidores, o mais comum é utilizar as informações consolidadas na análise. Afinal, é a que dá a visão mais realista da posição financeira da companhia.\n",
    "\n",
    "O balanço patrimonial individual pode ser considerado em casos em que as subsidiárias atuam em segmentos totalmente diferentes da empresa principal e não sofrem grandes intervenções de sua controladora."
   ]
  },
  {
   "cell_type": "markdown",
   "metadata": {
    "id": "3C_PnBqCI7SF"
   },
   "source": [
    "##3.2. Baixando os arquivos e ajustando os arquivos (processamento em paralelo)"
   ]
  },
  {
   "cell_type": "code",
   "execution_count": 4,
   "metadata": {
    "id": "GUPjk7bP2LJf"
   },
   "outputs": [],
   "source": [
    "demonstrativos_interesse = ['BPA', 'DRE', 'BPP']"
   ]
  },
  {
   "cell_type": "code",
   "execution_count": 5,
   "metadata": {
    "id": "v1y6FYnA1o8z"
   },
   "outputs": [
    {
     "name": "stdout",
     "output_type": "stream",
     "text": [
      "Sucesso ao baixar o arquivo de http://dados.cvm.gov.br/dados/CIA_ABERTA/DOC/ITR/DADOS/itr_cia_aberta_2019.zip\n",
      "Sucesso ao baixar o arquivo de http://dados.cvm.gov.br/dados/CIA_ABERTA/DOC/ITR/DADOS/itr_cia_aberta_2022.zip\n",
      "Sucesso ao baixar o arquivo de https://dados.cvm.gov.br/dados/CIA_ABERTA/DOC/DFP/DADOS/dfp_cia_aberta_2022.zip\n",
      "Dados (de todas as empresas de interesse) do demonstrativo BPA para o ano 2022 foram armazenados.\n",
      "Dados (de todas as empresas de interesse) do demonstrativo DRE para o ano 2022 foram armazenados.\n",
      "Dados (de todas as empresas de interesse) do demonstrativo BPP para o ano 2022 foram armazenados.\n"
     ]
    },
    {
     "name": "stderr",
     "output_type": "stream",
     "text": [
      "/usr/local/lib/python3.10/dist-packages/pandas/util/_decorators.py:211: FutureWarning: the 'encoding' keyword is deprecated and will be removed in a future version. Please take steps to stop the use of 'encoding'\n",
      "  return func(*args, **kwargs)\n",
      "/tmp/ipykernel_201934/2783785319.py:58: FutureWarning: save is not part of the public API, usage can give unexpected results and will be removed in a future version\n",
      "  writer.save()\n"
     ]
    },
    {
     "name": "stdout",
     "output_type": "stream",
     "text": [
      "Arquivo Excel com os demonstrativos da empresa 022357 para o ano 2022 já exportado.\n",
      "Arquivo Excel com os demonstrativos da empresa 019909 para o ano 2022 já exportado.\n",
      "Arquivo Excel com os demonstrativos da empresa 020494 para o ano 2022 já exportado.\n",
      "Arquivo Excel com os demonstrativos da empresa 020982 para o ano 2022 já exportado.\n",
      "Sucesso ao baixar o arquivo de http://dados.cvm.gov.br/dados/CIA_ABERTA/DOC/ITR/DADOS/itr_cia_aberta_2020.zip\n",
      "Sucesso ao baixar o arquivo de https://dados.cvm.gov.br/dados/CIA_ABERTA/DOC/DFP/DADOS/dfp_cia_aberta_2020.zip\n",
      "Dados (de todas as empresas de interesse) do demonstrativo BPA para o ano 2020 foram armazenados.\n",
      "Sucesso ao baixar o arquivo de https://dados.cvm.gov.br/dados/CIA_ABERTA/DOC/DFP/DADOS/dfp_cia_aberta_2019.zip\n",
      "Dados (de todas as empresas de interesse) do demonstrativo DRE para o ano 2020 foram armazenados.\n",
      "Dados (de todas as empresas de interesse) do demonstrativo BPA para o ano 2019 foram armazenados.\n",
      "Dados (de todas as empresas de interesse) do demonstrativo DRE para o ano 2019 foram armazenados.\n",
      "Dados (de todas as empresas de interesse) do demonstrativo BPP para o ano 2020 foram armazenados.\n"
     ]
    },
    {
     "name": "stderr",
     "output_type": "stream",
     "text": [
      "/usr/local/lib/python3.10/dist-packages/pandas/util/_decorators.py:211: FutureWarning: the 'encoding' keyword is deprecated and will be removed in a future version. Please take steps to stop the use of 'encoding'\n",
      "  return func(*args, **kwargs)\n",
      "/tmp/ipykernel_201934/2783785319.py:58: FutureWarning: save is not part of the public API, usage can give unexpected results and will be removed in a future version\n",
      "  writer.save()\n"
     ]
    },
    {
     "name": "stdout",
     "output_type": "stream",
     "text": [
      "Arquivo Excel com os demonstrativos da empresa 022357 para o ano 2020 já exportado.\n",
      "Arquivo Excel com os demonstrativos da empresa 019909 para o ano 2020 já exportado.\n",
      "Arquivo Excel com os demonstrativos da empresa 020494 para o ano 2020 já exportado.\n",
      "Arquivo Excel com os demonstrativos da empresa 020982 para o ano 2020 já exportado.\n",
      "Dados (de todas as empresas de interesse) do demonstrativo BPP para o ano 2019 foram armazenados.\n"
     ]
    },
    {
     "name": "stderr",
     "output_type": "stream",
     "text": [
      "/usr/local/lib/python3.10/dist-packages/pandas/util/_decorators.py:211: FutureWarning: the 'encoding' keyword is deprecated and will be removed in a future version. Please take steps to stop the use of 'encoding'\n",
      "  return func(*args, **kwargs)\n",
      "/tmp/ipykernel_201934/2783785319.py:58: FutureWarning: save is not part of the public API, usage can give unexpected results and will be removed in a future version\n",
      "  writer.save()\n"
     ]
    },
    {
     "name": "stdout",
     "output_type": "stream",
     "text": [
      "Arquivo Excel com os demonstrativos da empresa 022357 para o ano 2019 já exportado.\n",
      "Arquivo Excel com os demonstrativos da empresa 019909 para o ano 2019 já exportado.\n",
      "Arquivo Excel com os demonstrativos da empresa 020494 para o ano 2019 já exportado.\n",
      "Arquivo Excel com os demonstrativos da empresa 020982 para o ano 2019 já exportado.\n",
      "Sucesso ao baixar o arquivo de http://dados.cvm.gov.br/dados/CIA_ABERTA/DOC/ITR/DADOS/itr_cia_aberta_2021.zip\n",
      "Sucesso ao baixar o arquivo de https://dados.cvm.gov.br/dados/CIA_ABERTA/DOC/DFP/DADOS/dfp_cia_aberta_2021.zip\n",
      "Dados (de todas as empresas de interesse) do demonstrativo BPA para o ano 2021 foram armazenados.\n",
      "Dados (de todas as empresas de interesse) do demonstrativo DRE para o ano 2021 foram armazenados.\n",
      "Dados (de todas as empresas de interesse) do demonstrativo BPP para o ano 2021 foram armazenados.\n"
     ]
    },
    {
     "name": "stderr",
     "output_type": "stream",
     "text": [
      "/usr/local/lib/python3.10/dist-packages/pandas/util/_decorators.py:211: FutureWarning: the 'encoding' keyword is deprecated and will be removed in a future version. Please take steps to stop the use of 'encoding'\n",
      "  return func(*args, **kwargs)\n",
      "/tmp/ipykernel_201934/2783785319.py:58: FutureWarning: save is not part of the public API, usage can give unexpected results and will be removed in a future version\n",
      "  writer.save()\n"
     ]
    },
    {
     "name": "stdout",
     "output_type": "stream",
     "text": [
      "Arquivo Excel com os demonstrativos da empresa 022357 para o ano 2021 já exportado.\n",
      "Arquivo Excel com os demonstrativos da empresa 019909 para o ano 2021 já exportado.\n",
      "Arquivo Excel com os demonstrativos da empresa 020494 para o ano 2021 já exportado.\n",
      "Arquivo Excel com os demonstrativos da empresa 020982 para o ano 2021 já exportado.\n",
      "O tempo de execução foi de 41.11031913757324 segundos\n"
     ]
    }
   ],
   "source": [
    "def retorna_ponteiro_arquivo_zip(url):\n",
    "    try:\n",
    "        req = requests.get(url)\n",
    "        arquivo_zip = zipfile.ZipFile(io.BytesIO(req.content))\n",
    "        print('Sucesso ao baixar o arquivo de ' + url)\n",
    "    except:\n",
    "        print(\"Erro ao buscar o arquivo de \" + url)\n",
    "        arquivo_zip = None\n",
    "    return arquivo_zip\n",
    "\n",
    "def atualiza_dict_df_demonstrativo(tipo, arquivo_zip, demonstrativo, ano, codigos_cvm, dict_df):\n",
    "    if not arquivo_zip is None:\n",
    "        nome_arquivo_csv = tipo + '_cia_aberta_' + str(demonstrativo) + '_con_' + str(ano) + '.csv' # CONSIDERANDO SOMENTE OS DF CONSOLIDADOS\n",
    "        arquivo_csv = arquivo_zip.open(nome_arquivo_csv)\n",
    "        linhas = arquivo_csv.readlines()\n",
    "        linhas = [i.strip().decode('ISO-8859-1') for i in linhas]\n",
    "        linhas = [i.split(';') for i in linhas]\n",
    "        df = pd.DataFrame(linhas[1:], columns = linhas[0])\n",
    "        df['VL_AJUSTADO'] = pd.to_numeric(df['VL_CONTA'])\n",
    "        df = df[df['ORDEM_EXERC']==\"ÚLTIMO\"]\n",
    "\n",
    "        for codigo_cvm in codigos_cvm:\n",
    "            if not codigo_cvm + \"|\" + demonstrativo in dict_df:\n",
    "                dict_df[codigo_cvm + \"|\" + demonstrativo] = df[df['CD_CVM']== str(codigo_cvm)]\n",
    "            else:\n",
    "                dict_df[codigo_cvm + \"|\" + demonstrativo] = pd.concat([dict_df[codigo_cvm + \"|\" + demonstrativo], \n",
    "                                                                       df[df['CD_CVM']== str(codigo_cvm)]])\n",
    "\n",
    "def processa_arquivos_do_ano(ano):\n",
    "    url_itr = 'http://dados.cvm.gov.br/dados/CIA_ABERTA/DOC/ITR/DADOS/itr_cia_aberta_' + str(ano) + '.zip'\n",
    "    url_dfp = 'https://dados.cvm.gov.br/dados/CIA_ABERTA/DOC/DFP/DADOS/dfp_cia_aberta_' + str(ano) + '.zip'\n",
    "    arquivo_zip_itr = retorna_ponteiro_arquivo_zip(url_itr)\n",
    "    arquivo_zip_dfp = retorna_ponteiro_arquivo_zip(url_dfp)\n",
    "\n",
    "    dict_df = {}\n",
    "\n",
    "    #for i in range(0, len(codigos_cvm)):\n",
    "        #codigo_cvm = codigos_cvm[i]\n",
    "        # writer = pd.ExcelWriter(f'demonstrativos_empresa_{str(codigo_cvm)}_ano_{ano}.xlsx', engine='xlsxwriter')\n",
    "    for demonstrativo in demonstrativos_interesse:\n",
    "        \n",
    "        atualiza_dict_df_demonstrativo(\"itr\", arquivo_zip_itr, demonstrativo, ano, codigos_cvm, dict_df)\n",
    "        atualiza_dict_df_demonstrativo(\"dfp\", arquivo_zip_dfp, demonstrativo, ano, codigos_cvm, dict_df)\n",
    "        #df = pd.concat([df_itr, df_dfp])\n",
    "\n",
    "        #df.to_excel(writer, sheet_name=demonstrativo, encoding= 'ISO-8859-1')\n",
    "        print(f'Dados (de todas as empresas de interesse) do demonstrativo {demonstrativo} para o ano {ano} foram armazenados.')\n",
    "        #writer.save()\n",
    "        #print(f'Arquivo Excel com os demonstrativos da empresa {codigo_cvm} para o ano {ano} já exportado.\\n')\n",
    "\n",
    "    for i in range(0, len(codigos_cvm)):\n",
    "        codigo_cvm = codigos_cvm[i]\n",
    "        writer = pd.ExcelWriter(f'demonstrativos_empresa_{str(codigo_cvm)}_ano_{ano}.xlsx', engine='xlsxwriter')        \n",
    "\n",
    "        for demonstrativo in demonstrativos_interesse:\n",
    "            dict_df[codigo_cvm + \"|\" + demonstrativo].to_excel(writer, sheet_name=demonstrativo, encoding= 'ISO-8859-1')\n",
    "        \n",
    "        writer.save()\n",
    "        print(f'Arquivo Excel com os demonstrativos da empresa {codigo_cvm} para o ano {ano} já exportado.')    \n",
    "\n",
    "start_time = time.time()\n",
    "anos_interesse = [2019, 2020, 2021, 2022]\n",
    "\n",
    "with Pool() as pool:\n",
    "    pool.map(processa_arquivos_do_ano, anos_interesse)\n",
    "    \n",
    "print(\"O tempo de execução foi de %s segundos\" % (time.time() - start_time))"
   ]
  },
  {
   "cell_type": "markdown",
   "metadata": {
    "id": "4KsYE7tGmZYT"
   },
   "source": [
    "#4. Transformando os dados"
   ]
  },
  {
   "cell_type": "markdown",
   "metadata": {
    "id": "2LOJ1tIBJPTB"
   },
   "source": [
    "##4.1. Verificando os arquivos XLSX gerados"
   ]
  },
  {
   "cell_type": "code",
   "execution_count": 6,
   "metadata": {
    "id": "Oq3CmzR0mXe-"
   },
   "outputs": [
    {
     "data": {
      "text/plain": [
       "['demonstrativos_empresa_020982_ano_2020.xlsx',\n",
       " 'demonstrativos_empresa_020494_ano_2022.xlsx',\n",
       " 'demonstrativos_empresa_020494_ano_2021.xlsx',\n",
       " 'demonstrativos_empresa_019909_ano_2020.xlsx',\n",
       " 'demonstrativos_empresa_022357_ano_2019.xlsx',\n",
       " 'demonstrativos_empresa_019909_ano_2021.xlsx',\n",
       " 'demonstrativos_empresa_020494_ano_2020.xlsx',\n",
       " 'demonstrativos_empresa_019909_ano_2019.xlsx',\n",
       " 'demonstrativos_empresa_022357_ano_2022.xlsx',\n",
       " 'demonstrativos_empresa_020982_ano_2021.xlsx',\n",
       " 'demonstrativos_empresa_020494_ano_2019.xlsx',\n",
       " 'demonstrativos_empresa_019909_ano_2022.xlsx',\n",
       " 'demonstrativos_empresa_022357_ano_2020.xlsx',\n",
       " 'demonstrativos_empresa_022357_ano_2021.xlsx',\n",
       " 'demonstrativos_empresa_020982_ano_2022.xlsx',\n",
       " 'demonstrativos_empresa_020982_ano_2019.xlsx']"
      ]
     },
     "execution_count": 6,
     "metadata": {},
     "output_type": "execute_result"
    }
   ],
   "source": [
    "# Capturar os arquivos que estão no diretório criado na etapa do webscrapping\n",
    "caminho = os.getcwd()\n",
    "arquivos = os.listdir(caminho)\n",
    "# arquivos\n",
    "\n",
    "# Juntamos todos esses xslxs em uma lista\n",
    "arquivos_xlsx = [f for f in arquivos if f[-4:] == 'xlsx']\n",
    "arquivos_xlsx"
   ]
  },
  {
   "cell_type": "markdown",
   "metadata": {
    "id": "x-evj-kBdBHo"
   },
   "source": [
    "##4.2. Tabela DRE"
   ]
  },
  {
   "cell_type": "code",
   "execution_count": 7,
   "metadata": {
    "id": "t5yQ5DXknqxY"
   },
   "outputs": [
    {
     "ename": "ImportError",
     "evalue": "Missing optional dependency 'openpyxl'.  Use pip or conda to install openpyxl.",
     "output_type": "error",
     "traceback": [
      "\u001b[0;31m---------------------------------------------------------------------------\u001b[0m",
      "\u001b[0;31mModuleNotFoundError\u001b[0m                       Traceback (most recent call last)",
      "File \u001b[0;32m/usr/local/lib/python3.10/dist-packages/pandas/compat/_optional.py:141\u001b[0m, in \u001b[0;36mimport_optional_dependency\u001b[0;34m(name, extra, errors, min_version)\u001b[0m\n\u001b[1;32m    140\u001b[0m \u001b[38;5;28;01mtry\u001b[39;00m:\n\u001b[0;32m--> 141\u001b[0m     module \u001b[38;5;241m=\u001b[39m \u001b[43mimportlib\u001b[49m\u001b[38;5;241;43m.\u001b[39;49m\u001b[43mimport_module\u001b[49m\u001b[43m(\u001b[49m\u001b[43mname\u001b[49m\u001b[43m)\u001b[49m\n\u001b[1;32m    142\u001b[0m \u001b[38;5;28;01mexcept\u001b[39;00m \u001b[38;5;167;01mImportError\u001b[39;00m:\n",
      "File \u001b[0;32m/usr/lib/python3.10/importlib/__init__.py:126\u001b[0m, in \u001b[0;36mimport_module\u001b[0;34m(name, package)\u001b[0m\n\u001b[1;32m    125\u001b[0m         level \u001b[38;5;241m+\u001b[39m\u001b[38;5;241m=\u001b[39m \u001b[38;5;241m1\u001b[39m\n\u001b[0;32m--> 126\u001b[0m \u001b[38;5;28;01mreturn\u001b[39;00m \u001b[43m_bootstrap\u001b[49m\u001b[38;5;241;43m.\u001b[39;49m\u001b[43m_gcd_import\u001b[49m\u001b[43m(\u001b[49m\u001b[43mname\u001b[49m\u001b[43m[\u001b[49m\u001b[43mlevel\u001b[49m\u001b[43m:\u001b[49m\u001b[43m]\u001b[49m\u001b[43m,\u001b[49m\u001b[43m \u001b[49m\u001b[43mpackage\u001b[49m\u001b[43m,\u001b[49m\u001b[43m \u001b[49m\u001b[43mlevel\u001b[49m\u001b[43m)\u001b[49m\n",
      "File \u001b[0;32m<frozen importlib._bootstrap>:1050\u001b[0m, in \u001b[0;36m_gcd_import\u001b[0;34m(name, package, level)\u001b[0m\n",
      "File \u001b[0;32m<frozen importlib._bootstrap>:1027\u001b[0m, in \u001b[0;36m_find_and_load\u001b[0;34m(name, import_)\u001b[0m\n",
      "File \u001b[0;32m<frozen importlib._bootstrap>:1004\u001b[0m, in \u001b[0;36m_find_and_load_unlocked\u001b[0;34m(name, import_)\u001b[0m\n",
      "\u001b[0;31mModuleNotFoundError\u001b[0m: No module named 'openpyxl'",
      "\nDuring handling of the above exception, another exception occurred:\n",
      "\u001b[0;31mImportError\u001b[0m                               Traceback (most recent call last)",
      "Cell \u001b[0;32mIn [7], line 34\u001b[0m\n\u001b[1;32m     32\u001b[0m \u001b[38;5;66;03m# Juntar todos os arquivos xlsx em uma grande tabela DRE\u001b[39;00m\n\u001b[1;32m     33\u001b[0m \u001b[38;5;28;01mfor\u001b[39;00m arquivo_xlsx \u001b[38;5;129;01min\u001b[39;00m arquivos_xlsx:\n\u001b[0;32m---> 34\u001b[0m     dre \u001b[38;5;241m=\u001b[39m \u001b[43mpd\u001b[49m\u001b[38;5;241;43m.\u001b[39;49m\u001b[43mread_excel\u001b[49m\u001b[43m(\u001b[49m\u001b[43marquivo_xlsx\u001b[49m\u001b[43m,\u001b[49m\u001b[43m \u001b[49m\u001b[43msheet_name\u001b[49m\u001b[38;5;241;43m=\u001b[39;49m\u001b[38;5;124;43m'\u001b[39;49m\u001b[38;5;124;43mDRE\u001b[39;49m\u001b[38;5;124;43m'\u001b[39;49m\u001b[43m)\u001b[49m\n\u001b[1;32m     35\u001b[0m     dre \u001b[38;5;241m=\u001b[39m adicionar_dados_4_trimestre(dre)\n\u001b[1;32m     36\u001b[0m     dre_completo \u001b[38;5;241m=\u001b[39m dre_completo\u001b[38;5;241m.\u001b[39mappend(dre)\n",
      "File \u001b[0;32m/usr/local/lib/python3.10/dist-packages/pandas/util/_decorators.py:211\u001b[0m, in \u001b[0;36mdeprecate_kwarg.<locals>._deprecate_kwarg.<locals>.wrapper\u001b[0;34m(*args, **kwargs)\u001b[0m\n\u001b[1;32m    209\u001b[0m     \u001b[38;5;28;01melse\u001b[39;00m:\n\u001b[1;32m    210\u001b[0m         kwargs[new_arg_name] \u001b[38;5;241m=\u001b[39m new_arg_value\n\u001b[0;32m--> 211\u001b[0m \u001b[38;5;28;01mreturn\u001b[39;00m \u001b[43mfunc\u001b[49m\u001b[43m(\u001b[49m\u001b[38;5;241;43m*\u001b[39;49m\u001b[43margs\u001b[49m\u001b[43m,\u001b[49m\u001b[43m \u001b[49m\u001b[38;5;241;43m*\u001b[39;49m\u001b[38;5;241;43m*\u001b[39;49m\u001b[43mkwargs\u001b[49m\u001b[43m)\u001b[49m\n",
      "File \u001b[0;32m/usr/local/lib/python3.10/dist-packages/pandas/util/_decorators.py:331\u001b[0m, in \u001b[0;36mdeprecate_nonkeyword_arguments.<locals>.decorate.<locals>.wrapper\u001b[0;34m(*args, **kwargs)\u001b[0m\n\u001b[1;32m    325\u001b[0m \u001b[38;5;28;01mif\u001b[39;00m \u001b[38;5;28mlen\u001b[39m(args) \u001b[38;5;241m>\u001b[39m num_allow_args:\n\u001b[1;32m    326\u001b[0m     warnings\u001b[38;5;241m.\u001b[39mwarn(\n\u001b[1;32m    327\u001b[0m         msg\u001b[38;5;241m.\u001b[39mformat(arguments\u001b[38;5;241m=\u001b[39m_format_argument_list(allow_args)),\n\u001b[1;32m    328\u001b[0m         \u001b[38;5;167;01mFutureWarning\u001b[39;00m,\n\u001b[1;32m    329\u001b[0m         stacklevel\u001b[38;5;241m=\u001b[39mfind_stack_level(),\n\u001b[1;32m    330\u001b[0m     )\n\u001b[0;32m--> 331\u001b[0m \u001b[38;5;28;01mreturn\u001b[39;00m \u001b[43mfunc\u001b[49m\u001b[43m(\u001b[49m\u001b[38;5;241;43m*\u001b[39;49m\u001b[43margs\u001b[49m\u001b[43m,\u001b[49m\u001b[43m \u001b[49m\u001b[38;5;241;43m*\u001b[39;49m\u001b[38;5;241;43m*\u001b[39;49m\u001b[43mkwargs\u001b[49m\u001b[43m)\u001b[49m\n",
      "File \u001b[0;32m/usr/local/lib/python3.10/dist-packages/pandas/io/excel/_base.py:482\u001b[0m, in \u001b[0;36mread_excel\u001b[0;34m(io, sheet_name, header, names, index_col, usecols, squeeze, dtype, engine, converters, true_values, false_values, skiprows, nrows, na_values, keep_default_na, na_filter, verbose, parse_dates, date_parser, thousands, decimal, comment, skipfooter, convert_float, mangle_dupe_cols, storage_options)\u001b[0m\n\u001b[1;32m    480\u001b[0m \u001b[38;5;28;01mif\u001b[39;00m \u001b[38;5;129;01mnot\u001b[39;00m \u001b[38;5;28misinstance\u001b[39m(io, ExcelFile):\n\u001b[1;32m    481\u001b[0m     should_close \u001b[38;5;241m=\u001b[39m \u001b[38;5;28;01mTrue\u001b[39;00m\n\u001b[0;32m--> 482\u001b[0m     io \u001b[38;5;241m=\u001b[39m \u001b[43mExcelFile\u001b[49m\u001b[43m(\u001b[49m\u001b[43mio\u001b[49m\u001b[43m,\u001b[49m\u001b[43m \u001b[49m\u001b[43mstorage_options\u001b[49m\u001b[38;5;241;43m=\u001b[39;49m\u001b[43mstorage_options\u001b[49m\u001b[43m,\u001b[49m\u001b[43m \u001b[49m\u001b[43mengine\u001b[49m\u001b[38;5;241;43m=\u001b[39;49m\u001b[43mengine\u001b[49m\u001b[43m)\u001b[49m\n\u001b[1;32m    483\u001b[0m \u001b[38;5;28;01melif\u001b[39;00m engine \u001b[38;5;129;01mand\u001b[39;00m engine \u001b[38;5;241m!=\u001b[39m io\u001b[38;5;241m.\u001b[39mengine:\n\u001b[1;32m    484\u001b[0m     \u001b[38;5;28;01mraise\u001b[39;00m \u001b[38;5;167;01mValueError\u001b[39;00m(\n\u001b[1;32m    485\u001b[0m         \u001b[38;5;124m\"\u001b[39m\u001b[38;5;124mEngine should not be specified when passing \u001b[39m\u001b[38;5;124m\"\u001b[39m\n\u001b[1;32m    486\u001b[0m         \u001b[38;5;124m\"\u001b[39m\u001b[38;5;124man ExcelFile - ExcelFile already has the engine set\u001b[39m\u001b[38;5;124m\"\u001b[39m\n\u001b[1;32m    487\u001b[0m     )\n",
      "File \u001b[0;32m/usr/local/lib/python3.10/dist-packages/pandas/io/excel/_base.py:1695\u001b[0m, in \u001b[0;36mExcelFile.__init__\u001b[0;34m(self, path_or_buffer, engine, storage_options)\u001b[0m\n\u001b[1;32m   1692\u001b[0m \u001b[38;5;28mself\u001b[39m\u001b[38;5;241m.\u001b[39mengine \u001b[38;5;241m=\u001b[39m engine\n\u001b[1;32m   1693\u001b[0m \u001b[38;5;28mself\u001b[39m\u001b[38;5;241m.\u001b[39mstorage_options \u001b[38;5;241m=\u001b[39m storage_options\n\u001b[0;32m-> 1695\u001b[0m \u001b[38;5;28mself\u001b[39m\u001b[38;5;241m.\u001b[39m_reader \u001b[38;5;241m=\u001b[39m \u001b[38;5;28;43mself\u001b[39;49m\u001b[38;5;241;43m.\u001b[39;49m\u001b[43m_engines\u001b[49m\u001b[43m[\u001b[49m\u001b[43mengine\u001b[49m\u001b[43m]\u001b[49m\u001b[43m(\u001b[49m\u001b[38;5;28;43mself\u001b[39;49m\u001b[38;5;241;43m.\u001b[39;49m\u001b[43m_io\u001b[49m\u001b[43m,\u001b[49m\u001b[43m \u001b[49m\u001b[43mstorage_options\u001b[49m\u001b[38;5;241;43m=\u001b[39;49m\u001b[43mstorage_options\u001b[49m\u001b[43m)\u001b[49m\n",
      "File \u001b[0;32m/usr/local/lib/python3.10/dist-packages/pandas/io/excel/_openpyxl.py:556\u001b[0m, in \u001b[0;36mOpenpyxlReader.__init__\u001b[0;34m(self, filepath_or_buffer, storage_options)\u001b[0m\n\u001b[1;32m    541\u001b[0m \u001b[38;5;129m@doc\u001b[39m(storage_options\u001b[38;5;241m=\u001b[39m_shared_docs[\u001b[38;5;124m\"\u001b[39m\u001b[38;5;124mstorage_options\u001b[39m\u001b[38;5;124m\"\u001b[39m])\n\u001b[1;32m    542\u001b[0m \u001b[38;5;28;01mdef\u001b[39;00m \u001b[38;5;21m__init__\u001b[39m(\n\u001b[1;32m    543\u001b[0m     \u001b[38;5;28mself\u001b[39m,\n\u001b[1;32m    544\u001b[0m     filepath_or_buffer: FilePath \u001b[38;5;241m|\u001b[39m ReadBuffer[\u001b[38;5;28mbytes\u001b[39m],\n\u001b[1;32m    545\u001b[0m     storage_options: StorageOptions \u001b[38;5;241m=\u001b[39m \u001b[38;5;28;01mNone\u001b[39;00m,\n\u001b[1;32m    546\u001b[0m ) \u001b[38;5;241m-\u001b[39m\u001b[38;5;241m>\u001b[39m \u001b[38;5;28;01mNone\u001b[39;00m:\n\u001b[1;32m    547\u001b[0m     \u001b[38;5;124;03m\"\"\"\u001b[39;00m\n\u001b[1;32m    548\u001b[0m \u001b[38;5;124;03m    Reader using openpyxl engine.\u001b[39;00m\n\u001b[1;32m    549\u001b[0m \n\u001b[0;32m   (...)\u001b[0m\n\u001b[1;32m    554\u001b[0m \u001b[38;5;124;03m    {storage_options}\u001b[39;00m\n\u001b[1;32m    555\u001b[0m \u001b[38;5;124;03m    \"\"\"\u001b[39;00m\n\u001b[0;32m--> 556\u001b[0m     \u001b[43mimport_optional_dependency\u001b[49m\u001b[43m(\u001b[49m\u001b[38;5;124;43m\"\u001b[39;49m\u001b[38;5;124;43mopenpyxl\u001b[39;49m\u001b[38;5;124;43m\"\u001b[39;49m\u001b[43m)\u001b[49m\n\u001b[1;32m    557\u001b[0m     \u001b[38;5;28msuper\u001b[39m()\u001b[38;5;241m.\u001b[39m\u001b[38;5;21m__init__\u001b[39m(filepath_or_buffer, storage_options\u001b[38;5;241m=\u001b[39mstorage_options)\n",
      "File \u001b[0;32m/usr/local/lib/python3.10/dist-packages/pandas/compat/_optional.py:144\u001b[0m, in \u001b[0;36mimport_optional_dependency\u001b[0;34m(name, extra, errors, min_version)\u001b[0m\n\u001b[1;32m    142\u001b[0m \u001b[38;5;28;01mexcept\u001b[39;00m \u001b[38;5;167;01mImportError\u001b[39;00m:\n\u001b[1;32m    143\u001b[0m     \u001b[38;5;28;01mif\u001b[39;00m errors \u001b[38;5;241m==\u001b[39m \u001b[38;5;124m\"\u001b[39m\u001b[38;5;124mraise\u001b[39m\u001b[38;5;124m\"\u001b[39m:\n\u001b[0;32m--> 144\u001b[0m         \u001b[38;5;28;01mraise\u001b[39;00m \u001b[38;5;167;01mImportError\u001b[39;00m(msg)\n\u001b[1;32m    145\u001b[0m     \u001b[38;5;28;01melse\u001b[39;00m:\n\u001b[1;32m    146\u001b[0m         \u001b[38;5;28;01mreturn\u001b[39;00m \u001b[38;5;28;01mNone\u001b[39;00m\n",
      "\u001b[0;31mImportError\u001b[0m: Missing optional dependency 'openpyxl'.  Use pip or conda to install openpyxl."
     ]
    }
   ],
   "source": [
    "def adicionar_dados_4_trimestre(dre):\n",
    "    dre_infos_12_meses = dre[(dre['DT_INI_EXERC'].str[4:8] == '-01-') & (dre['DT_FIM_EXERC'].str[4:8] == '-12-')]\n",
    "    dre_infos_9_meses = dre[(dre['DT_INI_EXERC'].str[4:8] == '-01-') & (dre['DT_FIM_EXERC'].str[4:8] == '-09-')]\n",
    "\n",
    "    for index, row in dre_infos_12_meses.iterrows():\n",
    "        codigo_cvm = row['CD_CVM']\n",
    "        ordem = row['ORDEM_EXERC']\n",
    "        codigo_conta = row['CD_CONTA']\n",
    "        descricao_conta = row['DS_CONTA']\n",
    "        valor_ajustado_12_meses = row['VL_AJUSTADO']\n",
    "        nova_data_inicio = row['DT_INI_EXERC'][0:4] + '-10-01'\n",
    "\n",
    "        try:\n",
    "            valor_ajustado_9_meses = dre_infos_9_meses[(dre_infos_9_meses['CD_CONTA'] == codigo_conta) & \n",
    "                                                       (dre_infos_9_meses['ORDEM_EXERC'] == ordem)].iloc[0]['VL_AJUSTADO']\n",
    "            #print(f\"Achou valor para a conta {codigo_conta} {descricao_conta}\")\n",
    "            #print(f\"Valor para os 9 meses: {valor_ajustado_9_meses}\")\n",
    "            #print(f\"Valor para os 12 meses: {valor_ajustado_12_meses}\")\n",
    "            #print(f\"Vai setar a nova data inicial para: {nova_data_inicio}\\n\\n\")\n",
    "            row_temp = row.copy()\n",
    "            row_temp['VL_AJUSTADO'] = valor_ajustado_12_meses - valor_ajustado_9_meses\n",
    "            row_temp['DT_INI_EXERC'] = nova_data_inicio\n",
    "            dre = dre.append([row_temp])\n",
    "        except:\n",
    "            print(f\"Não encontrou valor para a conta {codigo_conta} - '{descricao_conta}' para os 9 meses. Encontrou para os 12.\")\n",
    "    \n",
    "    return dre\n",
    "\n",
    "# Criar o dataframe DRE\n",
    "dre_completo = pd.DataFrame()\n",
    "\n",
    "# Juntar todos os arquivos xlsx em uma grande tabela DRE\n",
    "for arquivo_xlsx in arquivos_xlsx:\n",
    "    dre = pd.read_excel(arquivo_xlsx, sheet_name='DRE')\n",
    "    dre = adicionar_dados_4_trimestre(dre)\n",
    "    dre_completo = dre_completo.append(dre)"
   ]
  },
  {
   "cell_type": "code",
   "execution_count": null,
   "metadata": {
    "id": "mn2IJCQ9rPgX"
   },
   "outputs": [],
   "source": [
    "# Puxar uma lista com os nomes das empresas\n",
    "lista_de_empresas = dre_completo['DENOM_CIA'].unique().tolist()\n",
    "lista_de_empresas"
   ]
  },
  {
   "cell_type": "code",
   "execution_count": null,
   "metadata": {
    "id": "7BNmI6Pzr-E1"
   },
   "outputs": [],
   "source": [
    "#tickers = ['IGTA3', 'BRML3', 'MULT3', 'ALSO3'] # precisa estar na mesma ordem da lista de empresas"
   ]
  },
  {
   "cell_type": "code",
   "execution_count": null,
   "metadata": {
    "id": "my7c5zHKrbCc"
   },
   "outputs": [],
   "source": [
    "lista_de_contas = pd.DataFrame()\n",
    "lista_de_contas[\"CONTA\"] = dre_completo['CD_CONTA'] + \" - \" + dre_completo['DS_CONTA']\n",
    "lista_de_contas[\"CONTA\"].unique().tolist()"
   ]
  },
  {
   "cell_type": "code",
   "execution_count": null,
   "metadata": {
    "id": "umkDWK0Wrf5h"
   },
   "outputs": [],
   "source": [
    "# Organizar a tabela em um esquema de tabela dinamica, onde as datas sejam labels de coluna\n",
    "dre_completo = pd.pivot_table(dre_completo, index=['DENOM_CIA','DS_CONTA'], columns=['DT_INI_EXERC', 'DT_FIM_EXERC'],values=['VL_AJUSTADO'])\n",
    "dre_completo.head()"
   ]
  },
  {
   "cell_type": "markdown",
   "metadata": {
    "id": "oKH_Ke-zpbM3"
   },
   "source": [
    "##4.3. Tabelas de Balanço Patrimonal Ativo (BPA) e Balanço Patrimonal Passivo (BPP)"
   ]
  },
  {
   "cell_type": "markdown",
   "metadata": {
    "id": "1XZ2k0jUxB0t"
   },
   "source": [
    "Balanço patrimonial é um documento no qual as empresas divulgam números referentes a seus ativos, passivos e patrimônio líquido. \n",
    "\n",
    "Companhias de capital aberto, isto é, com ações negociadas na Bolsa de Valores, são obrigadas a divulgar o balanço patrimonial trimestralmente no Formulário de Informações Trimestrais (ITR) e anualmente no formulário de Demonstrações Financeiras Padronizadas (DFP).\n",
    "\n",
    "Desse modo, qualquer pessoa pode conferir qual a situação da empresa em que investe ou considera investir em um trimestre específico, ou então no consolidado do ano.\n",
    "\n",
    "Como o nome já entrega, as DFPs são padronizadas, o que significa que todas as empresas estruturam e classificam as informações da mesma maneira — inclusive os dados referentes ao balanço patrimonial.\n",
    "\n",
    "Isso torna a experiência de quem analisa múltiplas empresas muito mais fácil, pois é possível encontrar rapidamente as informações desejadas e comparar os dados de diferentes companhias.\n",
    "\n",
    "Os ITRs e DFPs dividem em dois grupos os números do balanço patrimonial:"
   ]
  },
  {
   "cell_type": "markdown",
   "metadata": {
    "id": "9KiJVZ3cyaue"
   },
   "source": [
    "###4.3.1. Balanço Patrimonial Ativo (BPA)\n",
    "\n",
    "Um ativo é um bem ou direito da empresa. Um recurso que, em tese, é útil ou necessário para ajudá-la a obter benefícios econômicos futuros.\n",
    "\n",
    "O dinheiro em caixa, por exemplo, é um ativo necessário para pagar os funcionários que executam as rotinas administrativas, financeiras e operacionais do negócio.\n",
    "\n",
    "Mas há diversos tipos de ativos, e o balanço patrimonial os divide entre **ativo circulante** — os bens e direitos que têm maior liquidez, ou seja, podem ser convertidos em dinheiro com mais facilidade e rapidez — e **ativo não circulante** — com menor liquidez."
   ]
  },
  {
   "cell_type": "code",
   "execution_count": null,
   "metadata": {
    "id": "sdxAtYf6uGIz"
   },
   "outputs": [],
   "source": [
    "# Preparando o BPA\n",
    "bpa_completo = pd.DataFrame()\n",
    "\n",
    "for f in arquivos_xlsx:\n",
    "    bpa = pd.read_excel(f, sheet_name='BPA')\n",
    "    bpa_completo = bpa_completo.append(bpa)"
   ]
  },
  {
   "cell_type": "code",
   "execution_count": null,
   "metadata": {
    "id": "6HlzTKPJkwKW"
   },
   "outputs": [],
   "source": [
    "lista_de_contas = pd.DataFrame()\n",
    "lista_de_contas[\"CONTA\"] = bpa_completo['CD_CONTA'] + \" - \" + bpa_completo['DS_CONTA']\n",
    "lista_de_contas[\"CONTA\"].unique().tolist()"
   ]
  },
  {
   "cell_type": "code",
   "execution_count": null,
   "metadata": {
    "id": "JwCgDz-lUqxF"
   },
   "outputs": [],
   "source": [
    "bpa_completo = pd.pivot_table(bpa_completo, index=['DENOM_CIA','DS_CONTA', 'CD_CONTA'], columns=['DT_FIM_EXERC'],values=['VL_AJUSTADO'])\n",
    "bpa_completo    "
   ]
  },
  {
   "cell_type": "markdown",
   "metadata": {
    "id": "Flpvrrc3ydFM"
   },
   "source": [
    "###4.3.2. Balanço Patrimonial Passivo (BPP)\n",
    "\n",
    "O passivo, por outro lado, é uma obrigação, como dívidas e contas a pagar. Enquanto o ativo é um recurso disponível para uso, o passivo é um elemento que representará uma saída de recursos e consequente diminuição do ativo.\n",
    "\n",
    "Assim como no caso anterior, o balanço patrimonial passivo divide as obrigações entre **passivo circulante** — cujo vencimento ocorre em até 12 meses — e **não circulante** — que pode ser pago em um prazo maior de 12 meses.\n",
    "\n",
    "Os ativos e passivos circulantes e não circulantes são divididos em outras subcategorias, que apresentaremos mais adiante.\n",
    "\n",
    "É muito importante acrescentar que as empresas listadas na bolsa acrescentam ao balanço patrimonial passivo o patrimônio líquido, que é o que sobra ao diminuir o passivo do ativo da empresa."
   ]
  },
  {
   "cell_type": "code",
   "execution_count": null,
   "metadata": {
    "id": "1201Zt-xuQM1"
   },
   "outputs": [],
   "source": [
    "bpp_completo = pd.DataFrame()\n",
    "\n",
    "for arquivo_xlsx in arquivos_xlsx:\n",
    "  bpp = pd.read_excel(arquivo_xlsx, sheet_name='BPP')\n",
    "  bpp_completo = bpp_completo.append(bpp)"
   ]
  },
  {
   "cell_type": "code",
   "execution_count": null,
   "metadata": {
    "id": "bJZ-CSlik2bi"
   },
   "outputs": [],
   "source": [
    "lista_de_contas = pd.DataFrame()\n",
    "lista_de_contas[\"CONTA\"] = bpp_completo['CD_CONTA'] + \" - \" + bpp_completo['DS_CONTA']\n",
    "lista_de_contas[\"CONTA\"].unique().tolist()"
   ]
  },
  {
   "cell_type": "code",
   "execution_count": null,
   "metadata": {
    "id": "40yuOEhoU12a"
   },
   "outputs": [],
   "source": [
    "bpp_completo = pd.pivot_table(bpp_completo, index=['DENOM_CIA','DS_CONTA', 'CD_CONTA'], columns=['DT_FIM_EXERC'], values=['VL_AJUSTADO'])\n",
    "bpp_completo"
   ]
  },
  {
   "cell_type": "markdown",
   "metadata": {
    "id": "fNg56ihEpoB4"
   },
   "source": [
    "#5. Indicadores Fundamentalistas\n"
   ]
  },
  {
   "cell_type": "markdown",
   "metadata": {
    "id": "m7YVRPQvEBvu"
   },
   "source": [
    "##5.1. Funções para ajustar DFs e plotar gráficos (anual e trimestral)"
   ]
  },
  {
   "cell_type": "code",
   "execution_count": null,
   "metadata": {
    "id": "8PW25mPjEL2E"
   },
   "outputs": [],
   "source": [
    "def gera_df_anual(df, filtros_indice):\n",
    "    df_anual = df.copy(deep=True)\n",
    "\n",
    "    for filtro in filtros_indice:\n",
    "        df_anual = df_anual[df_anual.index.get_level_values(filtro['indice']).str[4:8] == filtro['mes']]\n",
    "\n",
    "    df_anual.index = df_anual.index.get_level_values(1).str[:4]\n",
    "    return df_anual\n",
    "\n",
    "def retorna_trimestre(df, possuiDataInicioExercicio=True):\n",
    "    if (possuiDataInicioExercicio and df['MES_INICIAL'] == '01' and df['MES_FINAL'] == '03') or ((not possuiDataInicioExercicio) and df['MES_FINAL'] == '03'):\n",
    "        return str(df['ANO']) + '-01-01' \n",
    "    if (possuiDataInicioExercicio and df['MES_INICIAL'] == '04' and df['MES_FINAL'] == '06') or ((not possuiDataInicioExercicio) and df['MES_FINAL'] == '06'):\n",
    "        return str(df['ANO']) + '-04-01' \n",
    "    if (possuiDataInicioExercicio and df['MES_INICIAL'] == '07' and df['MES_FINAL'] == '09') or ((not possuiDataInicioExercicio) and df['MES_FINAL'] == '09'):\n",
    "        return str(df['ANO']) + '-07-01' \n",
    "    if (possuiDataInicioExercicio and df['MES_INICIAL'] == '10' and df['MES_FINAL'] == '12') or ((not possuiDataInicioExercicio) and df['MES_FINAL'] == '12'):\n",
    "        return str(df['ANO']) + '-10-01' \n",
    "    else:\n",
    "        return None\n",
    "\n",
    "def gera_df_trimestral(df, possuiDataInicioExercicio=True):\n",
    "    df_trimestral = df.copy(deep=True)\n",
    "\n",
    "    if possuiDataInicioExercicio:\n",
    "        df_trimestral['MES_INICIAL'] = df_trimestral.index.get_level_values(1).str[5:7]\n",
    "        df_trimestral['MES_FINAL'] = df_trimestral.index.get_level_values(2).str[5:7]\n",
    "    else:\n",
    "        df_trimestral['MES_INICIAL'] = df_trimestral.index.get_level_values(1).str[5:7]\n",
    "        df_trimestral['MES_FINAL'] = df_trimestral.index.get_level_values(1).str[5:7]\n",
    "\n",
    "    df_trimestral['ANO'] = df_trimestral.index.get_level_values(1).str[:4]\n",
    "    df_trimestral['TRIMESTRE'] = df_trimestral.apply(retorna_trimestre, axis=1, args=(possuiDataInicioExercicio,))\n",
    "\n",
    "    df_trimestral.index = df_trimestral['TRIMESTRE']\n",
    "    # df_trimestral[df_trimestral['TRIMESTRE'].str[-6:]=='-10-01']\n",
    "\n",
    "    df_trimestral = df_trimestral.drop('TRIMESTRE', axis=1)\n",
    "    df_trimestral = df_trimestral.drop('MES_INICIAL', axis=1)\n",
    "    df_trimestral = df_trimestral.drop('MES_FINAL', axis=1)\n",
    "    df_trimestral = df_trimestral.drop('ANO', axis=1)\n",
    "\n",
    "    df_trimestral.sort_index(ascending=False, inplace=True)\n",
    "    df_trimestral = df_trimestral[df_trimestral.index.notnull()]\n",
    "    return df_trimestral\n",
    "\n",
    "def gera_grafico_anual(df_anual, titulo, descricao_eixo_y, unidade_eixo_y, unidade_y_apos=True):\n",
    "    fig = go.Figure()\n",
    "\n",
    "    anos = list(df_anual.index.unique())\n",
    "\n",
    "    for c in df_anual.columns:\n",
    "\n",
    "        if unidade_y_apos:\n",
    "            template_y = \"%{value:.2f} \" + unidade_eixo_y\n",
    "            hover_template_y = \"<b>\" + titulo + \"</b><br>Data: %{label}<br>\" + descricao_eixo_y + \": %{y:.2f}\" + unidade_eixo_y\n",
    "        else:\n",
    "            template_y = unidade_eixo_y + \" %{value:.2f}\"\n",
    "            hover_template_y = \"<b>\" + titulo + \"</b><br>Data: %{label}<br>\" + descricao_eixo_y + \": \" + unidade_eixo_y + \" %{y:.2f} \"\n",
    "\n",
    "        fig.add_trace(go.Bar(x=df_anual.index,\n",
    "                             y=df_anual[c],\n",
    "                             name=c, text=df_anual[c], \n",
    "                             texttemplate = template_y,\n",
    "                             hovertemplate = hover_template_y,\n",
    "                             textposition=\"inside\",\n",
    "                             textangle=0,\n",
    "                             textfont={'family': \"Arial\", 'size': 15, 'color': \"Black\"},\n",
    "                             ))\n",
    "    fig.update_layout(\n",
    "        yaxis_title=descricao_eixo_y + \" (\" + unidade_eixo_y + \")\",\n",
    "        xaxis_title=\"Anos\",\n",
    "        legend_title=\"Empresas selecionadas:\",    \n",
    "        title={'text': '<b>' + titulo + ' Anual para os anos de ' + \", \".join(anos),\n",
    "              'y':0.9, 'x':0.5,\n",
    "              'xanchor': 'center', 'yanchor': 'top'},\n",
    "        legend=dict(x=0, y=-0.5),\n",
    "        barmode='group',\n",
    "        bargap=0.2, # gap between bars of adjacent location coordinates.\n",
    "        bargroupgap=0.1) # gap between bars of the same location coordinate.\n",
    "\n",
    "    # Pega a data em que o gráfico foi gerado\n",
    "    today = date.today().strftime('%d/%m/%Y')\n",
    "\n",
    "    fig.add_annotation(x=0.9, y=0, text=f\"Fonte dos dados: https://dados.cvm.gov.br/ <br>Data da geração: {today}\", showarrow=False,\n",
    "                      xref='paper', yref='paper', \n",
    "                      xshift=150, yshift=-130\n",
    "        , font=dict(size=12, color=\"grey\")\n",
    "        , align=\"left\"\n",
    "        )\n",
    "\n",
    "    fig.show()\n",
    "\n",
    "def gera_grafico_trimestral(df_trimestral, titulo, descricao_eixo_y, unidade_eixo_y, unidade_y_apos=True):\n",
    "    fig = go.Figure()\n",
    "\n",
    "    anos = list(df_trimestral.index.str[0:4].unique())\n",
    "    anos.sort()\n",
    "\n",
    "    if unidade_y_apos:\n",
    "        template_y = \"%{value:.2f} \" + unidade_eixo_y\n",
    "        hover_template_y = \"<b>\" + titulo + \"</b><br>Data: %{label}<br>\" + descricao_eixo_y + \": %{y:.2f}\" + unidade_eixo_y\n",
    "    else:\n",
    "        template_y = unidade_eixo_y + \" %{value:.2f}\"\n",
    "        hover_template_y = \"<b>\" + titulo + \"</b><br>Data: %{label}<br>\" + descricao_eixo_y + \": \" + unidade_eixo_y + \" %{y:.2f} \"\n",
    "\n",
    "    for c in df_trimestral.columns:\n",
    "        fig.add_trace(go.Bar(x=df_trimestral.index,\n",
    "                            y=df_trimestral[c],\n",
    "                            name=c, \n",
    "                            hovertemplate=hover_template_y,\n",
    "                            text=df_trimestral[c], \n",
    "                            texttemplate=template_y,\n",
    "                            textposition=\"inside\",\n",
    "                            textangle=0,\n",
    "                            textfont={'family': \"Arial\", 'size': 15, 'color': \"Black\"},\n",
    "                            ))\n",
    "    fig.update_xaxes(tickangle=-80, )\n",
    "\n",
    "    fig.update_layout(\n",
    "        #autosize=False,\n",
    "        #width=1200,\n",
    "        #height=800,\n",
    "        yaxis_title=descricao_eixo_y + \" (\" + unidade_eixo_y + \")\",\n",
    "        xaxis_title=\"Trimestres/Anos\",\n",
    "        legend_title=\"Empresas selecionadas:\",\n",
    "        title={\n",
    "            'text': '<b>' + titulo + ' Trimestral para os anos de ' + \", \".join(anos),\n",
    "            'y':0.9,\n",
    "            'x':0.5,\n",
    "            'xanchor': 'center',\n",
    "            'yanchor': 'top'},\n",
    "        legend=dict(x=0, y=-0.8),\n",
    "        barmode='group',\n",
    "        bargap=0.2, # gap between bars of adjacent location coordinates.\n",
    "        bargroupgap=0.1) # gap between bars of the same location coordinate.\n",
    "\n",
    "    # Pega a data em que o gráfico foi gerado\n",
    "\n",
    "    # fig.update_xaxes(\n",
    "    #     showgrid=True,\n",
    "    #     ticks=\"outside\",\n",
    "    #     tickson=\"boundaries\",\n",
    "    #     ticklen=20\n",
    "    # )\n",
    "\n",
    "    today = date.today().strftime('%d/%m/%Y')\n",
    "    fig.add_annotation(x=0.9, y=0, text=f\"Fonte dos dados: https://dados.cvm.gov.br/ <br>Data da geração: {today}\", showarrow=False,\n",
    "                      xref='paper', yref='paper', xshift=150, yshift=-130, font=dict(size=12, color=\"grey\"), align=\"left\")\n",
    "\n",
    "    #fig.update_layout(hovermode=\"x unified\")\n",
    "    # fig.update_layout(\n",
    "    #     hoverlabel=dict(\n",
    "    #         bgcolor=\"white\",\n",
    "    #         font_size=16,\n",
    "    #         font_family=\"Rockwell\"\n",
    "    #     )\n",
    "    # )\n",
    "    fig.show()"
   ]
  },
  {
   "cell_type": "markdown",
   "metadata": {
    "id": "o0gIKTjupsmO"
   },
   "source": [
    "## 5.2. Margens"
   ]
  },
  {
   "cell_type": "markdown",
   "metadata": {
    "id": "uSLj2sdqL4HL"
   },
   "source": [
    "### 5.2.1. Margem Bruta (usa a DRE)"
   ]
  },
  {
   "cell_type": "markdown",
   "metadata": {
    "id": "DIohLKu2GL-O"
   },
   "source": [
    "#### 5.2.1.1. Descrição"
   ]
  },
  {
   "cell_type": "markdown",
   "metadata": {
    "id": "rwkAlbupcGTx"
   },
   "source": [
    "***Referência: https://statusinvest.com.br/termos/m/margem-bruta***\n",
    "\n",
    "A Margem Bruta é uma métrica utilizada para a identificação da rentabilidade bruta de uma empresa, sendo a razão entre o Lucro Bruto e a Receita Líquida. Assim, através da margem bruta é possível tirar algumas conclusões sobre a eficiência da empresa. Isso ocorre, pois o investidor consegue calcular o quanto a empresa tem de lucro pelos seus investimentos, após a dedução de:\n",
    "\n",
    "- Impostos sobre Vendas;\n",
    "- Devoluções;\n",
    "- Descontos;\n",
    "- Custos de material;\n",
    "- Custo de Produto Vendido (CPV).\n",
    "\n",
    "Para calcular Margem Bruta, basta utilizar a seguinte fórmula:\n",
    "\n",
    "$MargemBruta = \\frac{LucroBruto}{ReceitaLiquida} \\times 100$\n",
    "\n",
    "Os números referentes ao Lucro Bruto e Receita Líquida podem ser recolhidos nos relatórios financeiros oferecidos aos investidores pelas empresas de capital aberto na bolsa. A margem bruta é bastante importante para gestores e investidores, já que produz informações relevantes sobre a rentabilidade da empresa."
   ]
  },
  {
   "cell_type": "markdown",
   "metadata": {
    "id": "H8QzMYzqGTBN"
   },
   "source": [
    "#### 5.1.1.2. Ajustando o DataFrame"
   ]
  },
  {
   "cell_type": "code",
   "execution_count": null,
   "metadata": {
    "id": "vOT31bDdua7s"
   },
   "outputs": [],
   "source": [
    "margem_bruta_empresas = pd.DataFrame()\n",
    "\n",
    "for i in range(0, len(lista_de_empresas)):\n",
    "    empresa = lista_de_empresas[i]\n",
    "    resultado_bruto = dre_completo.loc[empresa,:].loc['Resultado Bruto']\n",
    "    receita = dre_completo.loc[empresa,:].loc['Receita de Venda de Bens e/ou Serviços']\n",
    "    margem_bruta = pd.Series(resultado_bruto / receita) * 100.0\n",
    "    margem_bruta_empresas = pd.concat([margem_bruta_empresas, margem_bruta], axis=1)\n",
    "\n",
    "margem_bruta_empresas.columns = lista_de_empresas"
   ]
  },
  {
   "cell_type": "markdown",
   "metadata": {
    "id": "iyK-nBO3OMej"
   },
   "source": [
    "#### 5.1.1.3. Gráfico anual"
   ]
  },
  {
   "cell_type": "code",
   "execution_count": null,
   "metadata": {
    "id": "J-wGNWJPQ9eF"
   },
   "outputs": [],
   "source": [
    "gera_grafico_anual(gera_df_anual(margem_bruta_empresas, [{'indice': 1, 'mes': '-01-'}, {'indice': 2, 'mes': '-12-'}]), \"Margem Bruta\", \"Percentual\", \"%\")"
   ]
  },
  {
   "cell_type": "markdown",
   "metadata": {
    "id": "LcOuvw3mOkUw"
   },
   "source": [
    "#### 5.1.1.4. Gráfico trimestral"
   ]
  },
  {
   "cell_type": "code",
   "execution_count": null,
   "metadata": {
    "id": "NW1yiQgvAIl0"
   },
   "outputs": [],
   "source": [
    "gera_grafico_trimestral(gera_df_trimestral(margem_bruta_empresas), \"Margem Bruta\", \"Percentual\", \"%\")"
   ]
  },
  {
   "cell_type": "markdown",
   "metadata": {
    "id": "cGAuaAQ2O-w5"
   },
   "source": [
    "### 5.2.2. Margem Líquida (usa a DRE)"
   ]
  },
  {
   "cell_type": "markdown",
   "metadata": {
    "id": "grDGWk6PFZaF"
   },
   "source": [
    "#### 5.2.2.1. Descrição"
   ]
  },
  {
   "cell_type": "markdown",
   "metadata": {
    "id": "puAbjY2rb-Qw"
   },
   "source": [
    "***Referência: https://statusinvest.com.br/termos/m/margem-liquida***\n",
    "\n",
    "A Margem Líquida é razão entre o Lucro Líquido e a Receita Líquida de uma companhia após a dedução de impostos e tributos. Podendo representar um resultado trimestral ou anual, a Margem Líquida representa o resultado líquido das vendas de um negócio. Portanto, está diretamente ligado com o nível de rentabilidade que uma companhia consegue com suas operações. Para os investidores, a Margem Líquida demonstra se uma empresa possui bons retornos a partir custos de produção do seu produto/serviço.\n",
    "\n",
    "A Margem do Lucro Liquido possibilita aos investidores uma boa avaliação sobre a realidade financeira de uma companhia. Em caso de margem negativa, é possível concluir que a empresa em questão possui prejuízo, já que tanto a receita quanto o lucro depois dos impostos, despesas e custos são levados em conta.\n",
    "\n",
    "No entanto, é importante lembrar que nem sempre prejuízos significam algo negativo, já que existem algumas variáveis que podem causar esse resultado.\n",
    "\n",
    "No caso de uma margem alta, a indicação é de que a companhia possui uma boa vantagem competitiva, indicando que seus projetos devem estar dando resultados positivos e é vantajoso o investimento nela. Esse resultado pode ser causado por uma boa exposição da marca ou pelo lançamento de um novo produto ou serviço no mercado, por exemplo.\n"
   ]
  },
  {
   "cell_type": "markdown",
   "metadata": {
    "id": "od6ee3C4FeEi"
   },
   "source": [
    "#### 5.2.2.2. Ajustando o DataFrame"
   ]
  },
  {
   "cell_type": "code",
   "execution_count": null,
   "metadata": {
    "id": "lS4Hr44Kuj68"
   },
   "outputs": [],
   "source": [
    "margem_liquida_empresas = pd.DataFrame()\n",
    "\n",
    "for i in range(0, len(lista_de_empresas)):\n",
    "    empresa = lista_de_empresas[i]\n",
    "    lucro_liquido = dre_completo.loc[empresa,:].loc['Lucro/Prejuízo Consolidado do Período']\n",
    "    receita_liquida = dre_completo.loc[empresa,:].loc['Receita de Venda de Bens e/ou Serviços']\n",
    "    margem_liquida = pd.Series(lucro_liquido / receita_liquida) * 100.0\n",
    "    margem_liquida_empresas = pd.concat([margem_liquida_empresas, margem_liquida], axis=1)\n",
    "\n",
    "margem_liquida_empresas.columns = lista_de_empresas"
   ]
  },
  {
   "cell_type": "markdown",
   "metadata": {
    "id": "sEvXPFGcVjIs"
   },
   "source": [
    "#### 5.2.2.3. Gráfico anual"
   ]
  },
  {
   "cell_type": "code",
   "execution_count": null,
   "metadata": {
    "id": "58JzLoEkVnlH"
   },
   "outputs": [],
   "source": [
    "gera_grafico_anual(gera_df_anual(margem_liquida_empresas, \n",
    "                   [{'indice': 1, 'mes': '-01-'}, {'indice': 2, 'mes': '-12-'}]), \n",
    "                   \"Margem Líquida\", \"Percentual\", \"%\")"
   ]
  },
  {
   "cell_type": "markdown",
   "metadata": {
    "id": "Xa3XVWlAVxEg"
   },
   "source": [
    "#### 5.2.2.4. Gráfico trimestral"
   ]
  },
  {
   "cell_type": "code",
   "execution_count": null,
   "metadata": {
    "id": "fc8vPXnTV0Bq"
   },
   "outputs": [],
   "source": [
    "gera_grafico_trimestral(gera_df_trimestral(margem_liquida_empresas), \n",
    "                        \"Margem Líquida\", \"Percentual\", \"%\")"
   ]
  },
  {
   "cell_type": "markdown",
   "metadata": {
    "id": "nr7M1VE5wbsl"
   },
   "source": [
    "##5.3. Dívida Bruta/PL (Patrimônio Líquido) (usa o Balanço Patrimonial Passivo - BPP)"
   ]
  },
  {
   "cell_type": "markdown",
   "metadata": {
    "id": "EZlrGlk2G1Mq"
   },
   "source": [
    "###5.3.1. Descrição"
   ]
  },
  {
   "cell_type": "markdown",
   "metadata": {
    "id": "MVS3jTOCjBR-"
   },
   "source": [
    "***Referência: https://statusinvest.com.br/termos/d/divida-bruta-patrimonio-liquido*** \n",
    "\n",
    "Em suma, a **Dívida Bruta/PL** faz um comparativo sobre as questões que envolvem a área de endividamento e alavancagem da empresa, com a sua riqueza total, isto é a diferença entre os passivos e ativos que o negócio possui.\n",
    "\n",
    "Dessa forma, este se torna um indicador importante no momento de se avaliar a saúde financeira do negócio, pois é possível compreender a capacidade de endividamento que um negócio pode ter, sem comprometer seu valor real.\n",
    "\n",
    "Afinal, o indicador de **Dívida Bruta/PL** avalia o total de dívidas que o negócio possui sobre o valor real que a empresa tem. Portanto, para o investidor, saber interpretar esse dado é útil no momento de avaliar um investimento, pois tal informação aponta para real saúde financeira da empresa e sua capacidade alavancagem, ou seja, investidores de longo prazo conseguem ter um cenário aproximado sobre o potencial que a empresa tem e o risco que ela pode representar."
   ]
  },
  {
   "cell_type": "markdown",
   "metadata": {
    "id": "wpq96W2mG7ZJ"
   },
   "source": [
    "### 5.3.2. Ajustando o DataFrame"
   ]
  },
  {
   "cell_type": "code",
   "execution_count": null,
   "metadata": {
    "id": "TooP43xHvMzB"
   },
   "outputs": [],
   "source": [
    "pl_ajustado_empresas = pd.DataFrame()\n",
    "\n",
    "for i in range(0,len(lista_de_empresas)):\n",
    "    empresa = lista_de_empresas[i]\n",
    "    pl_consolidado = bpp_completo.loc[empresa,:].loc['Patrimônio Líquido Consolidado'].loc[\"2.03\"]\n",
    "    participacao_nao_controladores = bpp_completo.loc[empresa,:].loc['Participação dos Acionistas Não Controladores'].loc[\"2.03.09\"]\n",
    "    # Fazer um ajuste no patrimônio líquido para remover a conta 'Participação dos Acionistas Não Controladores'\n",
    "    pl_ajustado = pd.Series(pl_consolidado - participacao_nao_controladores)     \n",
    "    pl_ajustado_empresas = pd.concat([pl_ajustado_empresas, pl_ajustado], axis=1)\n",
    "\n",
    "pl_ajustado_empresas.columns = lista_de_empresas"
   ]
  },
  {
   "cell_type": "code",
   "execution_count": null,
   "metadata": {
    "id": "wjU1h_-2uoKv"
   },
   "outputs": [],
   "source": [
    "# 2.01\tPassivo Circulante\n",
    "# 2.01.04\tEmpréstimos e Financiamentos\n",
    "# 2.01.04.01\tEmpréstimos e Financiamentos\n",
    "\n",
    "# 2.02\tPassivo Não Circulante (prazo de vencimento superior a um ano)\t\n",
    "# 2.02.01\tEmpréstimos e Financiamentos\n",
    "# 2.02.01.01\tEmpréstimos e Financiamentos\n",
    "\n",
    "divida_bruta_sobre_pl_empresas = pd.DataFrame()\n",
    "\n",
    "for i in range(0, len(lista_de_empresas)):\n",
    "    empresa = lista_de_empresas[i]\n",
    "    divida_curto_prazo = bpp_completo.loc[empresa,:].loc['Empréstimos e Financiamentos'].loc[\"2.01.04\"]\n",
    "    divida_longo_prazo = bpp_completo.loc[empresa,:].loc['Empréstimos e Financiamentos'].loc[\"2.02.01\"]\n",
    "    divida_bruta = pd.Series(divida_curto_prazo + divida_longo_prazo)\n",
    "    divida_bruta_sobre_pl_empresas = pd.concat([divida_bruta_sobre_pl_empresas, divida_bruta], axis=1)\n",
    "    \n",
    "divida_bruta_sobre_pl_empresas.columns = lista_de_empresas\n",
    "divida_bruta_sobre_pl_empresas = (divida_bruta_sobre_pl_empresas / pl_ajustado_empresas) * 100.0"
   ]
  },
  {
   "cell_type": "markdown",
   "metadata": {
    "id": "gGpvUA3sHOLD"
   },
   "source": [
    "###5.3.3. Cria o gráfico anual"
   ]
  },
  {
   "cell_type": "code",
   "execution_count": null,
   "metadata": {
    "id": "E8-a5BVqw4aC"
   },
   "outputs": [],
   "source": [
    "gera_grafico_anual(gera_df_anual(divida_bruta_sobre_pl_empresas, [{'indice': 1, 'mes': '-12-'},]), \"Dívida Bruta/PL\", \"Percentual\", \"%\")"
   ]
  },
  {
   "cell_type": "markdown",
   "metadata": {
    "id": "hQkCl-fwKqXk"
   },
   "source": [
    "###5.3.4. Cria o gráfico trimestral"
   ]
  },
  {
   "cell_type": "code",
   "execution_count": null,
   "metadata": {
    "id": "14OqRj_rKwEP"
   },
   "outputs": [],
   "source": [
    "gera_grafico_trimestral(gera_df_trimestral(divida_bruta_sobre_pl_empresas, False), \"Dívida Bruta/PL\", \"Percentual\", \"%\")"
   ]
  },
  {
   "cell_type": "markdown",
   "metadata": {
    "id": "sXoELuDGxRPw"
   },
   "source": [
    "##5.4. Disponibilidades\n"
   ]
  },
  {
   "cell_type": "markdown",
   "metadata": {
    "id": "3pAulS7qL6E0"
   },
   "source": [
    "###5.4.1. Disponibilidades\n"
   ]
  },
  {
   "cell_type": "markdown",
   "metadata": {
    "id": "8pebF9vSNDVE"
   },
   "source": [
    "####5.4.1.1. Descrição"
   ]
  },
  {
   "cell_type": "markdown",
   "metadata": {
    "id": "o7gY-haXNH-T"
   },
   "source": [
    "TODO"
   ]
  },
  {
   "cell_type": "markdown",
   "metadata": {
    "id": "dlFtx_ppM9GM"
   },
   "source": [
    "#### 5.4.1.2. Ajustando o DataFrame"
   ]
  },
  {
   "cell_type": "code",
   "execution_count": null,
   "metadata": {
    "id": "jnenMftHu1FT"
   },
   "outputs": [],
   "source": [
    "caixa_ajustado_empresas = pd.DataFrame()\n",
    "\n",
    "for i in range(0, len(lista_de_empresas)):\n",
    "    empresa = lista_de_empresas[i]\n",
    "    caixa_ajustado = pd.Series((bpa_completo.loc[empresa,:].loc['Caixa e Equivalentes de Caixa'].loc['1.01.01'] +\n",
    "                                bpa_completo.loc[empresa,:].loc['Aplicações Financeiras'].loc['1.01.02']))     \n",
    "    caixa_ajustado_empresas = pd.concat([caixa_ajustado_empresas, caixa_ajustado], axis=1)\n",
    "\n",
    "caixa_ajustado_empresas.columns = lista_de_empresas"
   ]
  },
  {
   "cell_type": "markdown",
   "metadata": {
    "id": "QDqNMPJjM2EW"
   },
   "source": [
    "####5.4.1.3. Gráfico anual"
   ]
  },
  {
   "cell_type": "code",
   "execution_count": null,
   "metadata": {
    "id": "8Hcx_xbcxZs9"
   },
   "outputs": [],
   "source": [
    "gera_grafico_anual(gera_df_anual(caixa_ajustado_empresas, [{'indice': 1, 'mes': '-12-'}]), 'Disponibilidades', \"Valor\", \"R$\", False)"
   ]
  },
  {
   "cell_type": "markdown",
   "metadata": {
    "id": "_58KDc0JNTg0"
   },
   "source": [
    "####5.4.1.4. Gráfico trimestral"
   ]
  },
  {
   "cell_type": "code",
   "execution_count": null,
   "metadata": {
    "id": "XNfTEfdhNYak"
   },
   "outputs": [],
   "source": [
    "# TODO"
   ]
  },
  {
   "cell_type": "markdown",
   "metadata": {
    "id": "NWg5VzuxL-6e"
   },
   "source": [
    "###5.3.2. Liquidez Corrente"
   ]
  },
  {
   "cell_type": "markdown",
   "metadata": {
    "id": "50pjgx4Mf_ws"
   },
   "source": [
    "####5.3.2.1. Descrição"
   ]
  },
  {
   "cell_type": "markdown",
   "metadata": {
    "id": "ne9iQ2XWgZUC"
   },
   "source": [
    "***Referência: https://statusinvest.com.br/termos/l/liquidez-corrente***\n",
    "\n",
    "A liquidez corrente é um indicador usado para mensurar, a curto prazo de tempo, a capacidade de pagamento de uma companhia. Desse modo, a liquidez corrente busca obter a razão entre o ativo circulante da companhia pelo passivo circulante.\n",
    "\n",
    "Dessa forma, através da liquidez corrente é possível analisar a capacidade de pagamento de uma empresa, que pode ajudar a identificar a saúde do negócio.\n",
    "\n",
    "A liquidez corrente possui o propósito de mensurar a capacidade de pagamento de uma companhia. Desse modo, existem algumas interpretações da liquidez corrente que possibilitam a compreensão dos resultados, dentre essas interpretações, estão:\n",
    "\n",
    "- **Maior que 1** – Caso a liquidez corrente apresente um resultado maior que 1, significa que a companhia possui uma capacidade de pagamento relativamente boa, ou seja, expõe que a empresa possui um líquido positivo;\n",
    "\n",
    "- **Menor que 1** – Entretanto, se o indicativo da liquidez corrente apresentar um resultado inferior a 1,  demonstra que a empresa como dependente de geração de caixa, dado que, o ativo circulante está inferior ao passivo circulante;\n",
    "\n",
    "- **Igual a 1** – Além disso, caso o indicativo da liquidez corrente apresente um resultado igual a 1, revela que o capital da empresa e seus pagamentos estão proporcionais.\n"
   ]
  },
  {
   "cell_type": "code",
   "execution_count": null,
   "metadata": {
    "id": "YCwurWRM4Ytw"
   },
   "outputs": [],
   "source": [
    "liquidez_corrente_empresas = pd.DataFrame()\n",
    "\n",
    "for i in range(0, len(lista_de_empresas)):\n",
    "    empresa = lista_de_empresas[i]\n",
    "    ativo_circulante = bpa_completo.loc[empresa,:].loc['Ativo Circulante'].loc['1.01']\n",
    "    passivo_circulante = bpp_completo.loc[empresa,:].loc['Passivo Circulante'].loc['2.01']\n",
    "    liquidez_corrente = pd.Series(ativo_circulante/passivo_circulante)     \n",
    "    liquidez_corrente_empresas = pd.concat([liquidez_corrente_empresas, liquidez_corrente], axis=1)\n",
    "\n",
    "liquidez_corrente_empresas.columns = lista_de_empresas\n",
    "# liquidez_corrente_empresas"
   ]
  },
  {
   "cell_type": "markdown",
   "metadata": {
    "id": "gFcXW_53xi31"
   },
   "source": [
    "##5.5. EBIT"
   ]
  },
  {
   "cell_type": "markdown",
   "metadata": {
    "id": "ISB4CSlEl0hF"
   },
   "source": [
    "### 5.5.1. Descrição"
   ]
  },
  {
   "cell_type": "markdown",
   "metadata": {
    "id": "PcGS-tv8mAEG"
   },
   "source": [
    "***Referência: https://statusinvest.com.br/termos/e/ebit***\n",
    "\n",
    "O **EBIT**, ou *Earnings Before Interest and Taxes*, é um indicador que demonstra o lucro da empresa antes do reconhecimento de suas despesas com juros e impostos.\n",
    "\n",
    "Em português, o **EBIT** é chamado de LAJIR, ou Lucro Antes de Juros e Impostos. Através dele, é possível entender melhor os resultados operacionais informados no Demonstrativo de Resultados de exercício (DRE) de uma companhia.\n",
    "\n",
    "Para fazer o cálculo do EBIT é necessário lembrar que esse indicador representa o lucro da empresa antes do pagamento de juros e impostos. Portanto, basta somar os encargos líquidos, impostos sobre lucros e encargos financeiros de financiamento, a partir da seguinte fórmula:\n",
    "\n",
    "$EBIT=LucroLiquido + ResultadoFinanceiro + Impostos$\n",
    "\n",
    "Para encontrar essas informações, basta consultar o Demonstrativo de Resultados do Exercício (DRE) da empresa em questão. Esse documento contábil é divulgado trimestralmente pelas companhias de capital aberto na bolsa de valores."
   ]
  },
  {
   "cell_type": "code",
   "execution_count": null,
   "metadata": {
    "id": "jLSRo04s5O5p"
   },
   "outputs": [],
   "source": [
    "ebit_ajustado_empresas = pd.DataFrame()\n",
    "\n",
    "for i in range(0, len(lista_de_empresas)):\n",
    "    empresa = lista_de_empresas[i]\n",
    "    ebit_ajustado = pd.Series(dre_completo.loc[empresa,:].loc['Receita de Venda de Bens e/ou Serviços'] +\n",
    "                              dre_completo.loc[empresa,:].loc['Custo dos Bens e/ou Serviços Vendidos'] + \n",
    "                              dre_completo.loc[empresa,:].loc['Despesas com Vendas'] +\n",
    "                              dre_completo.loc[empresa,:].loc['Despesas Gerais e Administrativas'])\n",
    "    ebit_ajustado_empresas = pd.concat([ebit_ajustado_empresas, ebit_ajustado], axis=1)\n",
    "\n",
    "ebit_ajustado_empresas.columns = lista_de_empresas"
   ]
  },
  {
   "cell_type": "code",
   "execution_count": null,
   "metadata": {
    "id": "GBV-UUZs_TKk"
   },
   "outputs": [],
   "source": [
    "gera_grafico_anual(gera_df_anual(ebit_ajustado_empresas, [{'indice': 1, 'mes': '-01-'},\n",
    "                                                          {'indice': 2, 'mes': '-12-'}]), \"EBIT\", \"Valor\", \"R$\", False)"
   ]
  },
  {
   "cell_type": "code",
   "execution_count": null,
   "metadata": {
    "id": "HokLll3ckujf"
   },
   "outputs": [],
   "source": [
    "gera_grafico_trimestral(gera_df_trimestral(ebit_ajustado_empresas, True), \"EBIT\", \"Valor\", \"R$\", False)"
   ]
  },
  {
   "cell_type": "markdown",
   "metadata": {
    "id": "W60QX4GnPkgh"
   },
   "source": [
    "## Margem Operacional\n",
    "\n"
   ]
  },
  {
   "cell_type": "markdown",
   "metadata": {
    "id": "ilUnVmffPnyk"
   },
   "source": [
    "### Descrição\n"
   ]
  },
  {
   "cell_type": "markdown",
   "metadata": {
    "id": "nw6MfEfVPu-J"
   },
   "source": [
    "### Ajustando os DataFrames"
   ]
  },
  {
   "cell_type": "code",
   "execution_count": null,
   "metadata": {
    "id": "GJVORL9BHDiU"
   },
   "outputs": [],
   "source": [
    "margem_operacional_empresas = pd.DataFrame()\n",
    "\n",
    "for i in range(0, len(lista_de_empresas)):\n",
    "    empresa = lista_de_empresas[i]\n",
    "    resultado_bruto = dre_completo.loc[empresa,:].loc['Resultado Bruto']\n",
    "    receita_vendas = dre_completo.loc[empresa,:].loc['Receita de Venda de Bens e/ou Serviços']\n",
    "    custo_vendas = dre_completo.loc[empresa,:].loc['Custo dos Bens e/ou Serviços Vendidos']\n",
    "    despesas_vendas = dre_completo.loc[empresa,:].loc['Despesas com Vendas']\n",
    "    despesas_gerais = dre_completo.loc[empresa,:].loc['Despesas Gerais e Administrativas']\n",
    "\n",
    "    margem_operacional = pd.Series((resultado_bruto)/(receita_vendas + custo_vendas + despesas_vendas + despesas_gerais))\n",
    "    margem_operacional_empresas = pd.concat([margem_operacional_empresas, margem_operacional], axis=1)\n",
    "\n",
    "margem_operacional_empresas.columns = lista_de_empresas"
   ]
  },
  {
   "cell_type": "code",
   "execution_count": null,
   "metadata": {
    "id": "oR81NUHTR6MM"
   },
   "outputs": [],
   "source": [
    "gera_grafico_anual(gera_df_anual(margem_operacional_empresas, [{'indice': 1, 'mes': '-01-'}, {'indice': 2, 'mes': '-12-'}]), \"Margem Operacional\", \"Percentual\", \"%\", True)"
   ]
  },
  {
   "cell_type": "markdown",
   "metadata": {
    "id": "nFfD7D1wx9KX"
   },
   "source": [
    "##5.4. Ebitda/Div Bruta"
   ]
  },
  {
   "cell_type": "code",
   "execution_count": null,
   "metadata": {
    "id": "I6vaQ2mLEHGl"
   },
   "outputs": [],
   "source": [
    "ebitda_div_bruta_empresas = pd.DataFrame()\n",
    "\n",
    "for i in range(0, len(lista_de_empresas)):\n",
    "    empresa = lista_de_empresas[i]\n",
    "    receita_vendas = dre_completo.loc[empresa,:].loc['Receita de Venda de Bens e/ou Serviços']\n",
    "    custo = dre_completo.loc[empresa,:].loc['Custo dos Bens e/ou Serviços Vendidos']\n",
    "    despesas_vendas = dre_completo.loc[empresa,:].loc['Despesas com Vendas']\n",
    "    despesas_gerais = dre_completo.loc[empresa,:].loc['Despesas Gerais e Administrativas']\n",
    "    numerador = receita_vendas + custo + despesas_vendas + despesas_gerais\n",
    "    numerador = numerador[((numerador.index.get_level_values(1).str[4:8] == '-01-') & (numerador.index.get_level_values(2).str[4:8] == '-03-')) |\n",
    "          ((numerador.index.get_level_values(1).str[4:8] == '-04-') & (numerador.index.get_level_values(2).str[4:8] == '-06-')) |\n",
    "          ((numerador.index.get_level_values(1).str[4:8] == '-07-') & (numerador.index.get_level_values(2).str[4:8] == '-09-')) |\n",
    "          ((numerador.index.get_level_values(1).str[4:8] == '-10-') & (numerador.index.get_level_values(2).str[4:8] == '-12-'))\n",
    "         ]\n",
    "    #numerador[\"DELETAR\"] = numerador[\"DT_FIM_EXERC\"] - numerador[\"DT_INI_EXERC\"] \n",
    "\n",
    "    divida_curto_prazo = bpp_completo.loc[empresa,:].loc['Empréstimos e Financiamentos'].loc[\"2.01.04\"]\n",
    "    divida_longo_prazo = bpp_completo.loc[empresa,:].loc['Empréstimos e Financiamentos'].loc[\"2.02.01\"]\n",
    "    denominador = divida_curto_prazo + divida_longo_prazo\n",
    "\n",
    "    ebit_div_ajustado = pd.Series(numerador/denominador)\n",
    "    ebitda_div_bruta_empresas = pd.concat([ebitda_div_bruta_empresas, ebit_div_ajustado], axis=1)\n",
    "\n",
    "ebitda_div_bruta_empresas.columns = lista_de_empresas\n",
    "#ebitda_div_bruta_empresas\n",
    "\n",
    "ebitda_div_bruta_empresas\n",
    "#gera_df_anual(ebitda_div_bruta_empresas, [{'indice': 1, 'mes': '-01-'}, {'indice': 2, 'mes': '-12-'}])"
   ]
  },
  {
   "cell_type": "code",
   "execution_count": null,
   "metadata": {
    "id": "qZydjhM_FANv"
   },
   "outputs": [],
   "source": [
    "gera_grafico_anual(gera_df_anual(ebitda_div_bruta_empresas, [{'indice': 1, 'mes': '-01-'}, {'indice': 2, 'mes': '-12-'}]), \"EBIT/Divida Bruta\", \"Percentual\", \"%\", True)"
   ]
  },
  {
   "cell_type": "markdown",
   "metadata": {
    "id": "upMBTYaJyRcs"
   },
   "source": [
    "##5.5. Return on Equity - ROE\n",
    "\n"
   ]
  },
  {
   "cell_type": "code",
   "execution_count": null,
   "metadata": {
    "id": "7PLkkknSc2Ne"
   },
   "outputs": [],
   "source": [
    "#ROE E ROIC \n"
   ]
  },
  {
   "cell_type": "code",
   "execution_count": null,
   "metadata": {
    "id": "ZatFD3FzFKes"
   },
   "outputs": [],
   "source": [
    "#ROE\n",
    "#Junta os lucros líquidos dos últimos 4 trimestre e divide pelo PL ajustado"
   ]
  },
  {
   "cell_type": "markdown",
   "metadata": {
    "id": "KZ-NUq5pBq72"
   },
   "source": [
    "##5.6. EBIT/Ativo\n"
   ]
  },
  {
   "cell_type": "code",
   "execution_count": null,
   "metadata": {
    "id": "YgQlyp9_-IA9"
   },
   "outputs": [],
   "source": [
    "#Roic\n",
    "receita_liq_Q420 = pd.DataFrame()\n",
    "\n",
    "for i in range(0,n_empresas):\n",
    "  receita_liq_Q420_ = pd.Series(dre3.loc[lista_de_empresas[i],:].loc['Resultado Antes do Resultado Financeiro e dos Tributos'].iloc[-1] - (\n",
    "    dre2.loc[lista_de_empresas[i],:].loc['Resultado Antes do Resultado Financeiro e dos Tributos'].iloc[-5]+\n",
    "    dre2.loc[lista_de_empresas[i],:].loc['Resultado Antes do Resultado Financeiro e dos Tributos'].iloc[-2]+\n",
    "    dre2.loc[lista_de_empresas[i],:].loc['Resultado Antes do Resultado Financeiro e dos Tributos'].iloc[-1]\n",
    "))\n",
    "  receita_liq_Q420 = pd.concat([receita_liq_Q420,receita_liq_Q420_], axis=1)\n",
    "receita_liq_Q420.columns = lista_de_empresas\n",
    "receita_liq_Q420"
   ]
  },
  {
   "cell_type": "code",
   "execution_count": null,
   "metadata": {
    "id": "-sk3xNgLg7Sn"
   },
   "outputs": [],
   "source": [
    "receita_liq_Q320 = pd.DataFrame()\n",
    "\n",
    "\n",
    "for i in range(0,n_empresas):\n",
    "  receita_liq_Q320_ = pd.Series(dre2.loc[lista_de_empresas[i],:].loc['Receita de Venda de Bens e/ou Serviços'].iloc[-1,]+\n",
    "                             dre2.loc[lista_de_empresas[i],:].loc['Custo dos Bens e/ou Serviços Vendidos'].iloc[-1,]+ \n",
    "                             dre2.loc[lista_de_empresas[i],:].loc['Despesas com Vendas'].iloc[-1,]+\n",
    "                             dre2.loc[lista_de_empresas[i],:].loc['Despesas Gerais e Administrativas'].iloc[-1,])\n",
    "  receita_liq_Q320 = pd.concat([receita_liq_Q320,receita_liq_Q320_], axis=1)\n",
    "receita_liq_Q320.columns = lista_de_empresas\n",
    "receita_liq_Q320\n",
    "\n",
    "\n"
   ]
  },
  {
   "cell_type": "code",
   "execution_count": null,
   "metadata": {
    "id": "BH_AVwQFhUb6"
   },
   "outputs": [],
   "source": [
    "receita_liq_Q221 = pd.DataFrame()\n",
    "\n",
    "\n",
    "for i in range(0,n_empresas):\n",
    "  receita_liq_Q221_ = pd.Series(dre.loc[lista_de_empresas[i],:].loc['Receita de Venda de Bens e/ou Serviços'].iloc[-1,]+\n",
    "                             dre.loc[lista_de_empresas[i],:].loc['Custo dos Bens e/ou Serviços Vendidos'].iloc[-1,]+ \n",
    "                             dre.loc[lista_de_empresas[i],:].loc['Despesas com Vendas'].iloc[-1,]+\n",
    "                             dre.loc[lista_de_empresas[i],:].loc['Despesas Gerais e Administrativas'].iloc[-1,])\n",
    "  receita_liq_Q221 = pd.concat([receita_liq_Q221,receita_liq_Q221_], axis=1)\n",
    "receita_liq_Q221.columns = lista_de_empresas\n",
    "receita_liq_Q221\n"
   ]
  },
  {
   "cell_type": "code",
   "execution_count": null,
   "metadata": {
    "id": "59iltUVmho4t"
   },
   "outputs": [],
   "source": [
    "receita_liq_Q121 = pd.DataFrame()\n",
    "\n",
    "\n",
    "for i in range(0,n_empresas):\n",
    "  receita_liq_Q121_ = pd.Series(dre.loc[lista_de_empresas[i],:].loc['Receita de Venda de Bens e/ou Serviços'].iloc[-3,]+\n",
    "                             dre.loc[lista_de_empresas[i],:].loc['Custo dos Bens e/ou Serviços Vendidos'].iloc[-3,]+ \n",
    "                             dre.loc[lista_de_empresas[i],:].loc['Despesas com Vendas'].iloc[-3,]+\n",
    "                             dre.loc[lista_de_empresas[i],:].loc['Despesas Gerais e Administrativas'].iloc[-3,])\n",
    "  receita_liq_Q121 = pd.concat([receita_liq_Q121,receita_liq_Q121_], axis=1)\n",
    "receita_liq_Q121.columns = lista_de_empresas\n",
    "receita_liq_Q121\n"
   ]
  },
  {
   "cell_type": "code",
   "execution_count": null,
   "metadata": {
    "id": "5Vg9Slnw5XJm"
   },
   "outputs": [],
   "source": []
  },
  {
   "cell_type": "code",
   "execution_count": null,
   "metadata": {
    "id": "S52Uez9E2s32"
   },
   "outputs": [],
   "source": [
    "receita_liq_Q420 = pd.DataFrame()\n",
    "\n",
    "\n",
    "for i in range(0,n_empresas):\n",
    "  receita_liq_Q420_ = pd.Series((dre3.loc[lista_de_empresas[i],:].loc['Receita de Venda de Bens e/ou Serviços'].iloc[-1,]+\n",
    "                             dre3.loc[lista_de_empresas[i],:].loc['Custo dos Bens e/ou Serviços Vendidos'].iloc[-1,]+ \n",
    "                             dre3.loc[lista_de_empresas[i],:].loc['Despesas com Vendas'].iloc[-1,]+\n",
    "                             dre3.loc[lista_de_empresas[i],:].loc['Despesas Gerais e Administrativas'].iloc[-1,])-\n",
    "                             ((dre2.loc[lista_de_empresas[i],:].loc['Receita de Venda de Bens e/ou Serviços'].iloc[-1,]+\n",
    "                             dre2.loc[lista_de_empresas[i],:].loc['Custo dos Bens e/ou Serviços Vendidos'].iloc[-1,]+ \n",
    "                             dre2.loc[lista_de_empresas[i],:].loc['Despesas com Vendas'].iloc[-1,]+\n",
    "                             dre2.loc[lista_de_empresas[i],:].loc['Despesas Gerais e Administrativas'].iloc[-1,])+\n",
    "                             (dre2.loc[lista_de_empresas[i],:].loc['Receita de Venda de Bens e/ou Serviços'].iloc[-2,]+\n",
    "                             dre2.loc[lista_de_empresas[i],:].loc['Custo dos Bens e/ou Serviços Vendidos'].iloc[-2,]+ \n",
    "                             dre2.loc[lista_de_empresas[i],:].loc['Despesas com Vendas'].iloc[-2,]+\n",
    "                             (dre2.loc[lista_de_empresas[i],:].loc['Despesas Gerais e Administrativas'].iloc[-5,]))+\n",
    "                             (dre2.loc[lista_de_empresas[i],:].loc['Receita de Venda de Bens e/ou Serviços'].iloc[-5,]+\n",
    "                             dre2.loc[lista_de_empresas[i],:].loc['Custo dos Bens e/ou Serviços Vendidos'].iloc[-5,]+ \n",
    "                             dre2.loc[lista_de_empresas[i],:].loc['Despesas com Vendas'].iloc[-5,]+\n",
    "                             dre2.loc[lista_de_empresas[i],:].loc['Despesas Gerais e Administrativas'].iloc[-5,]))\n",
    "                             )\n",
    "  receita_liq_Q420 = pd.concat([receita_liq_Q420,receita_liq_Q420_], axis=1)\n",
    "receita_liq_Q420.columns = lista_de_empresas\n",
    "receita_liq_Q420"
   ]
  },
  {
   "cell_type": "code",
   "execution_count": null,
   "metadata": {
    "id": "AGD5-oNChz_k"
   },
   "outputs": [],
   "source": [
    "ebit_ano = receita_liq_Q121+receita_liq_Q221+receita_liq_Q420+receita_liq_Q320\n",
    "ebit_ano"
   ]
  },
  {
   "cell_type": "code",
   "execution_count": null,
   "metadata": {
    "id": "8S0iwdxvS7Fy"
   },
   "outputs": [],
   "source": [
    "#EBIT/ATIVO\n",
    "\n",
    "ebit_ativo = pd.DataFrame()\n",
    "for i in range(0,n_empresas):\n",
    "  ebit_ativo_ = pd.Series(bpa.loc[lista_de_empresas[i],:].loc['Ativo Total'].iloc[-1])\n",
    "  ebit_ativo = pd.concat([ebit_ativo,ebit_ativo_], axis=1)\n",
    "ebit_ativo.columns = lista_de_empresas\n",
    "ebit_ativo = ebit_ano/ebit_ativo\n",
    "ebit_ativo\n",
    "\n",
    "fig = go.Figure(go.Bar(\n",
    "    x=ebit_ativo.iloc[-1],\n",
    "    y=tickers,\n",
    "    orientation='h'\n",
    "))\n",
    "fig.update_layout(title_text='EBIT/ATIVO')\n",
    "fig.show()"
   ]
  },
  {
   "cell_type": "code",
   "execution_count": null,
   "metadata": {
    "id": "ZJbm9X7J9Y3U"
   },
   "outputs": [],
   "source": [
    "bpa.loc[lista_de_empresas[i],:].loc['Caixa e Equivalentes de Caixa'].iloc[-1,] + bpa.loc[lista_de_empresas[i],:].loc['Aplicações Financeiras'].iloc[-1,]"
   ]
  },
  {
   "cell_type": "markdown",
   "metadata": {
    "id": "fc-ZBU2nBu76"
   },
   "source": [
    "##5.7. ROIC"
   ]
  },
  {
   "cell_type": "code",
   "execution_count": null,
   "metadata": {
    "id": "4NfObAPOjjuM"
   },
   "outputs": [],
   "source": [
    "roic = ebit_ano/(pl_ajustado+divida_bruta_pl_df+caixa_ajustado)\n",
    "roic\n",
    "\n",
    "fig = go.Figure(go.Bar(\n",
    "    x=roic.iloc[-1],\n",
    "    y=tickers,\n",
    "    orientation='h'\n",
    "))\n",
    "fig.update_layout(title_text='ROIC')\n",
    "fig.show()"
   ]
  },
  {
   "cell_type": "markdown",
   "metadata": {
    "id": "IIWWBiLLYqrC"
   },
   "source": [
    "#6. Equity e Preço\n",
    "\n",
    "Indicadores fundamentalistas ligados ao preço e valor do ativo.\n"
   ]
  },
  {
   "cell_type": "markdown",
   "metadata": {
    "id": "mEcNdwex5JWT"
   },
   "source": [
    "##6.1. Valor de Mercado (Marketcap)"
   ]
  },
  {
   "cell_type": "markdown",
   "metadata": {
    "id": "1xfQglovEKQ9"
   },
   "source": [
    "###6.1.1. Descrição"
   ]
  },
  {
   "cell_type": "markdown",
   "metadata": {
    "id": "6-ehRQiLENSw"
   },
   "source": [
    "***Referência: https://statusinvest.com.br/termos/v/valor-de-mercado***\n",
    "\n",
    "O valor de mercado, refere-se ao preço que o mercado está pagando por uma determinada empresa, baseando-se na lei da oferta e da procura e concorrência de mercado.\n",
    "\n",
    "Através do valor de mercado, será possível verificar o posicionamento de uma organização, perante diversas variáveis que podem influenciar de forma positiva ou negativa o valor das ações.\n",
    "\n",
    "Ou seja, observa-se que o valor de mercado, verifica o preço que a empresa está sendo negociada no mercado financeiro, durante um período determinado. Vale ressaltar que esse valor varia ao longo do tempo, baseado normalmente no preço em que as ações negociam.\n",
    "\n",
    "O cálculo do valor de mercado é realizado através da multiplicação do valor de uma ação, pelo número de ações existentes.\n",
    "\n",
    "Desse modo, o valor de mercado poderá ser calculado mediante a utilização da seguinte fórmula:\n",
    "\n",
    "$ValorDeMercado = ValorDaAcao \\times NumeroDeAcoesExistentes$\n",
    "\n",
    "O valor de mercado está situado como um dos indicadores mais utilizados para verificar quanto o mercado está avaliando uma empresa. Entretanto, esse número possui algumas limitações, dado que, o valor de negociação reflete apenas uma estimativa do valor da companhia pelos seus acionistas, não de fato seu valor intrínseco.\n",
    "\n",
    "Dessa forma, é interessante que cada investidor realize sua própria análise a fim de identificar um valor justo para se negociar determinado ativo, sem necessariamente utilizar a expectativa do mercado ao avaliar determinada empresa.\n",
    "\n",
    "Dessa forma, é válido utilizar o valor de mercado, em conjunto, a outros indicadores para obter uma análise mais realista.\n",
    "\n"
   ]
  },
  {
   "cell_type": "markdown",
   "metadata": {
    "id": "RphkMzB2F1Aa"
   },
   "source": [
    "###6.1.2. Ajustando os DataFrames"
   ]
  },
  {
   "cell_type": "code",
   "execution_count": null,
   "metadata": {
    "id": "YqE_zVBUXxZ7"
   },
   "outputs": [],
   "source": [
    "# Coletar dados de preços\n",
    "tickers = ['IGTI3', 'BRML3', 'MULT3', 'ALSO3'] # precisa estar na mesma ordem da lista de empresas\n",
    "\n",
    "marketcap_empresas = pd.DataFrame()\n",
    "\n",
    "for i in tickers:\n",
    "    t = yf.Ticker(i + '.SA')\n",
    "    historico = t.history(period=\"1mo\", interval=\"1d\")\n",
    "    ultimo_fechamento = 0\n",
    "    if len(historico) > 0:\n",
    "        ultimo_fechamento = historico['Close'][-1]\n",
    "\n",
    "    numero_acoes = float(fundamentus.get_papel(i).loc[i].loc[\"Nro_Acoes\"])\n",
    "    valor_marketcap = numero_acoes * ultimo_fechamento\n",
    "    marketcap = pd.DataFrame(data={i: [valor_marketcap]})\n",
    "    \n",
    "    marketcap_empresas = pd.concat([marketcap_empresas, marketcap], axis=1)\n",
    "\n",
    "marketcap_empresas"
   ]
  },
  {
   "cell_type": "markdown",
   "metadata": {
    "id": "35KjO9-EF_30"
   },
   "source": [
    "###6.1.3. Gráfico anual"
   ]
  },
  {
   "cell_type": "code",
   "execution_count": null,
   "metadata": {
    "id": "QVChlUOGGDOy"
   },
   "outputs": [],
   "source": [
    "# fig = go.Figure(go.Bar(\n",
    "#     x=marketcap_empresas.iloc[-1],\n",
    "#     y=tickers,\n",
    "#     orientation='h',text=marketcap_empresas.iloc[-1]\n",
    "# ))\n",
    "# fig.update_layout(title_text='Marketcap')\n",
    "# fig.show()"
   ]
  },
  {
   "cell_type": "markdown",
   "metadata": {
    "id": "lHOSuOhKGE1o"
   },
   "source": [
    "###6.1.4. Gráfico trimestral"
   ]
  },
  {
   "cell_type": "code",
   "execution_count": null,
   "metadata": {
    "id": "zUTg2qIsGJJa"
   },
   "outputs": [],
   "source": [
    "# TODO"
   ]
  },
  {
   "cell_type": "markdown",
   "metadata": {
    "id": "gkN0yGooDDHF"
   },
   "source": [
    "##6.2. Valor da Firma (Enterprise Value)"
   ]
  },
  {
   "cell_type": "markdown",
   "metadata": {
    "id": "dZrA4NoYGbgP"
   },
   "source": [
    "###6.2.1. Descrição"
   ]
  },
  {
   "cell_type": "markdown",
   "metadata": {
    "id": "YY8p7mfLG4Nk"
   },
   "source": [
    "***Referência: https://statusinvest.com.br/termos/v/valor-de-firma***\n",
    "\n",
    "O valor de firma ou valor do empreendimento, refere-se a quanto vale uma empresa de forma abrangente, visto que, o valor de firma leva consideração, tanto o valor de mercado, como também, os ativos e passivos da organização, definindo assim, quanto realmente vale a companhia.\n",
    "\n",
    "Além disso, o valor de firma consegue definir quanto uma organização realmente vale, ou seja, quanto custa para adquirir uma empresa e todos os seus ativos, levando em consideração, que o comprador terá que assumir a dívida líquida da empresa.\n",
    "\n",
    "Sendo assim, o valor de firma é um valor bastante utilizado para comparar empresas.\n",
    "\n",
    "O valor de firma pode ser usado para interpretar se uma empresa está com um alto valor, quando comparado aos seus concorrentes. O valor de firma proporciona uma interpretação mais detalhada e completa do valor de uma organização.\n",
    "\n",
    "Dessa forma,  esse valor tornou-se um dos mais utilizados para negociações de aquisições, visto que, o índice pode apresentar a sustentabilidade da empresa nos anos posteriores, lembrando que, o valor de firma leva em consideração as dívidas da empresa e suas reservas em caixa.\n",
    "\n",
    "O cálculo do valor de firma leva em consideração a capitalização da empresa, somando-se ao seu endividamento, menos o seu caixa e equivalentes, podendo ser revelado mediante a realização da seguinte operação:\n",
    "\n",
    "$VF=CM+DT-C-AtivosNO$\n",
    "\n",
    "Logo, as seguintes incógnitas referem-se a:\n",
    "\n",
    "- **Valor de firma (VF)**: define quanto vale uma organização;\n",
    "- **Capitalização de mercado (CM)**: refere-se ao valor de mercado da empresa;\n",
    "- **Dívida total (DT)**: valor referente às dívidas de curto e longo prazo da organização, lembrando que, são considerados apenas os passivos financeiros;\n",
    "- **Caixa e equivalentes (C)**: totalidade do valor existente no caixa da empresa.\n",
    "- **Ativos Não Operacionais (AtivosNO)**: ativos que não tem relação direta com o funcionamento da companhia.\n",
    "\n"
   ]
  },
  {
   "cell_type": "markdown",
   "metadata": {
    "id": "CJ2KFzpxGemj"
   },
   "source": [
    "###6.2.2. Ajustando os DataFrames"
   ]
  },
  {
   "cell_type": "code",
   "execution_count": null,
   "metadata": {
    "id": "69o6nhHpEJos"
   },
   "outputs": [],
   "source": [
    "# ev = marketcap + (divida_bruta_pl_df-caixa_ajustado)"
   ]
  },
  {
   "cell_type": "markdown",
   "metadata": {
    "id": "crT7rsW2GjeX"
   },
   "source": [
    "###6.2.3. Gráfico anual"
   ]
  },
  {
   "cell_type": "code",
   "execution_count": null,
   "metadata": {
    "id": "XDVnQ5pQE3qW"
   },
   "outputs": [],
   "source": [
    "# ev\n",
    "\n",
    "# fig = go.Figure(go.Bar(\n",
    "#     x=ev.iloc[-1],\n",
    "#     y=tickers,\n",
    "#     orientation='h'\n",
    "# ))\n",
    "# fig.update_layout(title_text='Enterprise Value')\n",
    "# fig.show()"
   ]
  },
  {
   "cell_type": "markdown",
   "metadata": {
    "id": "EgMbJEpWGrNq"
   },
   "source": [
    "###6.2.4. Gráfico trimestral"
   ]
  },
  {
   "cell_type": "code",
   "execution_count": null,
   "metadata": {
    "id": "JMZTU-lyGuin"
   },
   "outputs": [],
   "source": [
    "# TODO"
   ]
  },
  {
   "cell_type": "markdown",
   "metadata": {
    "id": "QtphHcPKDHVW"
   },
   "source": [
    "##6.3. Valor Patrimonial da Ação"
   ]
  },
  {
   "cell_type": "code",
   "execution_count": null,
   "metadata": {
    "id": "WcaZ-NtTE4Ku"
   },
   "outputs": [],
   "source": [
    "#Valor Patrimonial da Ação\n",
    "\n",
    "vpa = (pl_ajustado)/n_acoes"
   ]
  },
  {
   "cell_type": "code",
   "execution_count": null,
   "metadata": {
    "id": "XCKgSd6x1qkq"
   },
   "outputs": [],
   "source": []
  },
  {
   "cell_type": "markdown",
   "metadata": {
    "id": "vNFNBXzg1qs6"
   },
   "source": []
  },
  {
   "cell_type": "code",
   "execution_count": null,
   "metadata": {
    "id": "It5aGzLjGbqu"
   },
   "outputs": [],
   "source": [
    "vpa"
   ]
  },
  {
   "cell_type": "code",
   "execution_count": null,
   "metadata": {
    "id": "gErTG2WJKdxk"
   },
   "outputs": [],
   "source": [
    "fig = go.Figure(go.Bar(\n",
    "    x=vpa.iloc[-1],\n",
    "    y=tickers,\n",
    "    orientation='h'\n",
    "))\n",
    "fig.update_layout(title_text='Valor Patrimonial da Ação')\n",
    "fig.show()"
   ]
  },
  {
   "cell_type": "code",
   "execution_count": null,
   "metadata": {
    "id": "7B1bPGoyGcNL"
   },
   "outputs": [],
   "source": [
    "type(pl_ajustado.iloc[-1,-1])"
   ]
  },
  {
   "cell_type": "markdown",
   "metadata": {
    "id": "bx2-k1rhDNBz"
   },
   "source": [
    "##6.4. Lucro por Ação e P/L"
   ]
  },
  {
   "cell_type": "code",
   "execution_count": null,
   "metadata": {
    "id": "7BtjxqnOqACQ"
   },
   "outputs": [],
   "source": [
    "#LPA\n",
    "\n",
    "lpa = (Q320+Q420+Q121+Q221)/n_acoes\n",
    "lpa"
   ]
  },
  {
   "cell_type": "code",
   "execution_count": null,
   "metadata": {
    "id": "8-QqYpv_GxWG"
   },
   "outputs": [],
   "source": [
    "#P/L\n",
    "\n",
    "pl = shoppings_preços.iloc[-1]/lpa\n",
    "pl"
   ]
  },
  {
   "cell_type": "code",
   "execution_count": null,
   "metadata": {
    "id": "1D8ojerXJuuc"
   },
   "outputs": [],
   "source": [
    "fig = go.Figure(go.Bar(\n",
    "    x=pl.iloc[-1],\n",
    "    y=tickers,\n",
    "    orientation='h',\n",
    "))\n",
    "fig.update_layout(title_text='Preço/Lucro')\n",
    "fig.show()"
   ]
  },
  {
   "cell_type": "code",
   "execution_count": null,
   "metadata": {
    "id": "CGDH2e7Ip-7P"
   },
   "outputs": [],
   "source": [
    "#P/VPA\n",
    "pvpa = shoppings_preços.iloc[-1]/vpa\n",
    "pvpa"
   ]
  },
  {
   "cell_type": "code",
   "execution_count": null,
   "metadata": {
    "id": "Rpv66HisAzSF"
   },
   "outputs": [],
   "source": [
    "\n",
    "\n",
    "fig = go.Figure(go.Bar(\n",
    "    x=pvpa.iloc[-1],\n",
    "    y=tickers,\n",
    "    orientation='h',text=pvpa.iloc[-1]\n",
    "))\n",
    "fig.update_layout(title_text='P/VPA')\n",
    "fig.show()"
   ]
  },
  {
   "cell_type": "code",
   "execution_count": null,
   "metadata": {
    "id": "qF34lBj4EFYq"
   },
   "outputs": [],
   "source": [
    "\n",
    "fig = ff.create_table(lpa, height_constant=50)\n",
    "trace1=go.Bar(x=tickers, y=pl.iloc[-1],marker=dict(color='#0099ff'), name='P/L',xaxis='x2' ,yaxis='y2')\n",
    "fig.add_traces([trace1])\n",
    "# initialize xaxis2 and yaxis2\n",
    "fig['layout']['xaxis2'] = {}\n",
    "fig['layout']['yaxis2'] = {}\n",
    "\n",
    "# Edit layout for subplots\n",
    "fig.layout.yaxis.update({'domain': [0, .45]})\n",
    "fig.layout.yaxis2.update({'domain': [.5, 1]})\n",
    "fig.layout.xaxis2.update({'anchor': 'y2'})\n",
    "fig.layout.yaxis2.update({'title': 'Goals'})\n",
    "\n",
    "fig.layout.margin.update({'t':75, 'l':50})\n",
    "fig.layout.update({'title': 'Analitcs'})\n",
    "\n",
    "# Update the height because adding a graph vertically will interact with\n",
    "# the plot height calculated for the table\n",
    "fig.layout.update({'height':800})\n",
    "\n",
    "\n",
    "fig.show()"
   ]
  },
  {
   "cell_type": "markdown",
   "metadata": {
    "id": "MV49QXBb1ru6"
   },
   "source": [
    "# PyGWalker"
   ]
  },
  {
   "cell_type": "code",
   "execution_count": null,
   "metadata": {
    "id": "jOBZE6sH1uqh"
   },
   "outputs": [],
   "source": [
    "!pip install pygwalker\n",
    "!pip install yfinance\n",
    "import pygwalker as pyg\n",
    "import yfinance as yf\n",
    "import pandas as pd\n",
    "import numpy as np"
   ]
  },
  {
   "cell_type": "code",
   "execution_count": null,
   "metadata": {
    "id": "0YUkozZT2I-h"
   },
   "outputs": [],
   "source": [
    "df = yf.download(\"PETZ3.SA\", period=\"max\")"
   ]
  },
  {
   "cell_type": "code",
   "execution_count": null,
   "metadata": {
    "id": "tuzYglKx2Sht"
   },
   "outputs": [],
   "source": [
    "df[\"Retornos\"] = df[\"Adj Close\"].pct_change(1)"
   ]
  },
  {
   "cell_type": "code",
   "execution_count": null,
   "metadata": {
    "id": "p_-M9p6P2b0H"
   },
   "outputs": [],
   "source": [
    "# Vol em 10 dias\n",
    "df[\"Vol_10_dias\"] = df[\"Retornos\"].rolling(10).std()"
   ]
  },
  {
   "cell_type": "code",
   "execution_count": null,
   "metadata": {
    "id": "UfG_aa7b2rlb"
   },
   "outputs": [],
   "source": [
    "# Média móvel 20 dias\n",
    "df[\"MM_20_dias\"] = df[\"Adj Close\"].rolling(20).mean()"
   ]
  },
  {
   "cell_type": "code",
   "execution_count": null,
   "metadata": {
    "id": "fRP-oYPJ21td"
   },
   "outputs": [],
   "source": [
    "# Ano e Mẽs\n",
    "df[\"Ano\"] = df.index.year\n",
    "df[\"Mes\"] = df.index.month"
   ]
  },
  {
   "cell_type": "code",
   "execution_count": null,
   "metadata": {
    "id": "YxkIHIpv3AuW"
   },
   "outputs": [],
   "source": [
    "df"
   ]
  },
  {
   "cell_type": "code",
   "execution_count": null,
   "metadata": {
    "id": "pOz_P9IK3Blz"
   },
   "outputs": [],
   "source": [
    "import pygwalker as pyg\n",
    "pyg.walk(df)"
   ]
  },
  {
   "cell_type": "code",
   "execution_count": null,
   "metadata": {
    "id": "RPs0Uckh3fRB"
   },
   "outputs": [],
   "source": [
    "#Api Banco Mundial\n",
    "\n",
    "!pip install wbgapi\n",
    "import wbgapi as wb"
   ]
  },
  {
   "cell_type": "code",
   "execution_count": null,
   "metadata": {
    "id": "fykjEwNT5poO"
   },
   "outputs": [],
   "source": [
    "lista = ['ARG', 'BRA', \"CHL\", \"COL\", \"PER\", \"URY\", \"MEX\"]\n",
    "desemprego = wb.data.DataFrame(\"SL.UEM.TOTL.ZS\", economy=lista, time=range(2010, 2022))\n",
    "desemprego"
   ]
  },
  {
   "cell_type": "code",
   "execution_count": null,
   "metadata": {
    "id": "qpgEfc_c6KR6"
   },
   "outputs": [],
   "source": [
    "desemprego = desemprego.melt(var_name=\"Ano\", value_name=\"Desemprego\")\n",
    "desemprego[\"País\"] = np.resize(lista, len(desemprego))\n",
    "desemprego[\"Ano\"] = pd.to_numeric(desemprego[\"Ano\"].str.slice(start=2))\n",
    "desemprego[\"Desemprego\"] = pd.to_numeric(desemprego[\"Desemprego\"])\n",
    "desemprego"
   ]
  },
  {
   "cell_type": "code",
   "execution_count": null,
   "metadata": {
    "id": "5zh9RAzX75bH"
   },
   "outputs": [],
   "source": [
    "pyg.walk(desemprego)"
   ]
  }
 ],
 "metadata": {
  "colab": {
   "collapsed_sections": [
    "oKH_Ke-zpbM3",
    "grDGWk6PFZaF",
    "Xa3XVWlAVxEg",
    "EZlrGlk2G1Mq",
    "50pjgx4Mf_ws",
    "mEcNdwex5JWT",
    "1xfQglovEKQ9",
    "gkN0yGooDDHF",
    "dZrA4NoYGbgP",
    "CJ2KFzpxGemj",
    "crT7rsW2GjeX",
    "EgMbJEpWGrNq"
   ],
   "provenance": []
  },
  "kernelspec": {
   "display_name": "Python 3 (ipykernel)",
   "language": "python",
   "name": "python3"
  },
  "language_info": {
   "codemirror_mode": {
    "name": "ipython",
    "version": 3
   },
   "file_extension": ".py",
   "mimetype": "text/x-python",
   "name": "python",
   "nbconvert_exporter": "python",
   "pygments_lexer": "ipython3",
   "version": "3.10.4"
  }
 },
 "nbformat": 4,
 "nbformat_minor": 1
}
